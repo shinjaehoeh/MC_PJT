{
  "nbformat": 4,
  "nbformat_minor": 0,
  "metadata": {
    "colab": {
      "name": "21_fastApi.ipynb",
      "provenance": [],
      "collapsed_sections": []
    },
    "kernelspec": {
      "name": "python3",
      "display_name": "Python 3"
    },
    "language_info": {
      "name": "python"
    }
  },
  "cells": [
    {
      "cell_type": "code",
      "metadata": {
        "id": "1WtfxfnaZYl7"
      },
      "source": [
        "!pip install fastapi nest-asyncio pyngrok uvicorn > /dev/null\n",
        "#!pip install nest-asyncio pyngrok > /dev/null"
      ],
      "execution_count": 2,
      "outputs": []
    },
    {
      "cell_type": "code",
      "metadata": {
        "id": "f0y2HI1gZ1cm"
      },
      "source": [
        "from typing import Optional\n",
        "from fastapi import FastAPI\n",
        "import nest_asyncio\n",
        "from pyngrok import ngrok\n",
        "import uvicorn"
      ],
      "execution_count": 3,
      "outputs": []
    },
    {
      "cell_type": "code",
      "metadata": {
        "id": "qb2hOOZQamBp",
        "colab": {
          "base_uri": "https://localhost:8080/"
        },
        "outputId": "343ae6ed-1df9-411f-bcfa-5517ca0ccfe1"
      },
      "source": [
        "app = FastAPI()\n",
        "\n",
        "@app.get('/')\n",
        "def read_root():\n",
        "    return {'hello':'world'}\n",
        "\n",
        "@app.get('/items/{item_id}')\n",
        "def read_item(item_id:int, q:Optional[str]=None):\n",
        "    return {'item_id':item_id, 'q':q}\n",
        "\n",
        "ngrok_tunnel = ngrok.connect(8000)\n",
        "print('Public URL:', ngrok_tunnel.public_url)\n",
        "nest_asyncio.apply()\n",
        "uvicorn.run(app, host='0.0.0.0', port=8000)"
      ],
      "execution_count": 4,
      "outputs": [
        {
          "output_type": "stream",
          "name": "stdout",
          "text": [
            ""
          ]
        },
        {
          "output_type": "stream",
          "name": "stderr",
          "text": [
            "INFO:     Started server process [66]\n",
            "INFO:     Waiting for application startup.\n",
            "INFO:     Application startup complete.\n",
            "INFO:     Uvicorn running on http://0.0.0.0:8000 (Press CTRL+C to quit)\n"
          ]
        },
        {
          "output_type": "stream",
          "name": "stdout",
          "text": [
            "Public URL: http://33ac-34-125-253-99.ngrok.io\n",
            "INFO:     175.124.143.3:0 - \"GET / HTTP/1.1\" 200 OK\n",
            "INFO:     175.124.143.3:0 - \"GET /favicon.ico HTTP/1.1\" 404 Not Found\n",
            "INFO:     175.124.143.3:0 - \"GET /items/5 HTTP/1.1\" 200 OK\n",
            "INFO:     175.124.143.3:0 - \"GET /favicon.ico HTTP/1.1\" 404 Not Found\n"
          ]
        },
        {
          "output_type": "stream",
          "name": "stderr",
          "text": [
            "INFO:     Shutting down\n",
            "INFO:     Waiting for application shutdown.\n",
            "INFO:     Application shutdown complete.\n",
            "INFO:     Finished server process [66]\n"
          ]
        }
      ]
    },
    {
      "cell_type": "markdown",
      "metadata": {
        "id": "JVL7aW_kKUwc"
      },
      "source": [
        "예시\n",
        "\n",
        "http://33ac-34-125-253-99.ngrok.io\n",
        "\n",
        "https://33ac-34-125-253-99.ngrok.io/items/5"
      ]
    }
  ]
}