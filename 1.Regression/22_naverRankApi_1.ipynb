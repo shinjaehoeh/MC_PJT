{
  "nbformat": 4,
  "nbformat_minor": 0,
  "metadata": {
    "colab": {
      "name": "22_naverRankApi_1.ipynb",
      "provenance": []
    },
    "kernelspec": {
      "name": "python3",
      "display_name": "Python 3"
    },
    "language_info": {
      "name": "python"
    }
  },
  "cells": [
    {
      "cell_type": "markdown",
      "metadata": {
        "id": "qkOP_i-rmdQA"
      },
      "source": [
        "## 네이버 영화랭킹 들어가기"
      ]
    },
    {
      "cell_type": "code",
      "metadata": {
        "id": "dcJwgUPFi8N3"
      },
      "source": [
        "import requests\n",
        "from bs4 import BeautifulSoup"
      ],
      "execution_count": 1,
      "outputs": []
    },
    {
      "cell_type": "code",
      "metadata": {
        "id": "WVIL8l4bl334"
      },
      "source": [
        "url = 'https://movie.naver.com/movie/sdb/rank/rmovie.naver'\n",
        "req = requests.get(url)\n",
        "html = req.text"
      ],
      "execution_count": 2,
      "outputs": []
    },
    {
      "cell_type": "code",
      "metadata": {
        "id": "eS_IOYcTmE0E"
      },
      "source": [
        "header = {'User-Agent':\n",
        "          'Mozilla/5.0 (X11; Linux x86_64) AppleWebKit/537.36 (KHTML, like Gecko) Chrome/51.0.2704.103 Safari/537.36'}\n",
        "req = requests.get(url, headers=header)\n",
        "html = req.text"
      ],
      "execution_count": 3,
      "outputs": []
    },
    {
      "cell_type": "code",
      "metadata": {
        "id": "BGX75wAtmSnI"
      },
      "source": [
        "soup = BeautifulSoup(html, 'html.parser')"
      ],
      "execution_count": 4,
      "outputs": []
    },
    {
      "cell_type": "markdown",
      "metadata": {
        "id": "00N4tyNLoFC6"
      },
      "source": [
        "## 네이버 영화랭킹 가져오기"
      ]
    },
    {
      "cell_type": "code",
      "metadata": {
        "colab": {
          "base_uri": "https://localhost:8080/"
        },
        "id": "dylptS_rmbag",
        "outputId": "1e3abe6b-9b0a-413e-9942-ff7ceec94248"
      },
      "source": [
        "table = soup.select_one('table.list_ranking')\n",
        "trs = table.select('tr')\n",
        "len(trs)"
      ],
      "execution_count": 5,
      "outputs": [
        {
          "output_type": "execute_result",
          "data": {
            "text/plain": [
              "57"
            ]
          },
          "metadata": {},
          "execution_count": 5
        }
      ]
    },
    {
      "cell_type": "code",
      "metadata": {
        "colab": {
          "base_uri": "https://localhost:8080/"
        },
        "id": "D4JzOCDSo6me",
        "outputId": "2f18270b-37d7-412a-ab49-002977ff4948"
      },
      "source": [
        "trs[2]"
      ],
      "execution_count": 6,
      "outputs": [
        {
          "output_type": "execute_result",
          "data": {
            "text/plain": [
              "<tr>\n",
              "<td class=\"ac\"><img alt=\"01\" height=\"13\" src=\"https://ssl.pstatic.net/imgmovie/2007/img/common/bullet_r_r01.gif\" width=\"14\"/></td>\n",
              "<td class=\"title\">\n",
              "<div class=\"tit3\">\n",
              "<a href=\"/movie/bi/mi/basic.naver?code=190320\" title=\"보이스\">보이스</a>\n",
              "</div>\n",
              "</td>\n",
              "<!-- 평점순일 때 평점 추가하기  -->\n",
              "<!----------------------------------------->\n",
              "<td class=\"ac\"><img alt=\"na\" class=\"arrow\" height=\"10\" src=\"https://ssl.pstatic.net/imgmovie/2007/img/common/icon_na_1.gif\" width=\"7\"/></td>\n",
              "<td class=\"range ac\">0</td>\n",
              "</tr>"
            ]
          },
          "metadata": {},
          "execution_count": 6
        }
      ]
    },
    {
      "cell_type": "code",
      "metadata": {
        "colab": {
          "base_uri": "https://localhost:8080/"
        },
        "id": "oSzAC88ApGPs",
        "outputId": "bcc8926e-fc20-46ff-ecdf-c65075a98965"
      },
      "source": [
        "trs[55]"
      ],
      "execution_count": 7,
      "outputs": [
        {
          "output_type": "execute_result",
          "data": {
            "text/plain": [
              "<tr>\n",
              "<td class=\"ac\"><img alt=\"50\" height=\"13\" src=\"https://ssl.pstatic.net/imgmovie/2007/img/common/bullet_r_g50.gif\" width=\"14\"/></td>\n",
              "<td class=\"title\">\n",
              "<div class=\"tit3\">\n",
              "<a href=\"/movie/bi/mi/basic.naver?code=120165\" title=\"해어화\">해어화</a>\n",
              "</div>\n",
              "</td>\n",
              "<!-- 평점순일 때 평점 추가하기  -->\n",
              "<!----------------------------------------->\n",
              "<td class=\"ac\"><img alt=\"down\" class=\"arrow\" height=\"10\" src=\"https://ssl.pstatic.net/imgmovie/2007/img/common/icon_down_1.gif\" width=\"7\"/></td>\n",
              "<td class=\"range ac\">2</td>\n",
              "</tr>"
            ]
          },
          "metadata": {},
          "execution_count": 7
        }
      ]
    },
    {
      "cell_type": "code",
      "metadata": {
        "colab": {
          "base_uri": "https://localhost:8080/"
        },
        "id": "Az_4uTZHrkk2",
        "outputId": "24e38712-58ee-4efe-ca58-9a6321dfb0b1"
      },
      "source": [
        "trs[0], trs[1], trs[12], trs[23], trs[34], trs[45], trs[56]"
      ],
      "execution_count": 8,
      "outputs": [
        {
          "output_type": "execute_result",
          "data": {
            "text/plain": [
              "(<tr>\n",
              " <th scope=\"col\">순위</th>\n",
              " <th scope=\"col\">영화명</th>\n",
              " <th colspan=\"2\" scope=\"col\">변동폭</th>\n",
              " </tr>,\n",
              " <tr><td class=\"blank01\" colspan=\"8\"></td></tr>,\n",
              " <tr><td class=\"line01\" colspan=\"8\"></td></tr>,\n",
              " <tr><td class=\"line01\" colspan=\"8\"></td></tr>,\n",
              " <tr><td class=\"line01\" colspan=\"8\"></td></tr>,\n",
              " <tr><td class=\"line01\" colspan=\"8\"></td></tr>,\n",
              " <tr><td class=\"blank01\" colspan=\"8\"></td></tr>)"
            ]
          },
          "metadata": {},
          "execution_count": 8
        }
      ]
    },
    {
      "cell_type": "markdown",
      "metadata": {
        "id": "h7iwQYPatQaW"
      },
      "source": [
        "## 하나 추출해보기"
      ]
    },
    {
      "cell_type": "code",
      "metadata": {
        "colab": {
          "base_uri": "https://localhost:8080/",
          "height": 36
        },
        "id": "I3J7UE1usLpi",
        "outputId": "3cd9240c-e813-4bf6-fffd-c1f19c035e1d"
      },
      "source": [
        "tr = trs[2]\n",
        "tr.get_text()"
      ],
      "execution_count": 9,
      "outputs": [
        {
          "output_type": "execute_result",
          "data": {
            "application/vnd.google.colaboratory.intrinsic+json": {
              "type": "string"
            },
            "text/plain": [
              "'\\n\\n\\n\\n보이스\\n\\n\\n\\n\\n\\n0\\n'"
            ]
          },
          "metadata": {},
          "execution_count": 9
        }
      ]
    },
    {
      "cell_type": "code",
      "metadata": {
        "colab": {
          "base_uri": "https://localhost:8080/",
          "height": 36
        },
        "id": "VjwAsa4puaAh",
        "outputId": "2fa6ecc9-3e4e-4621-c053-7bd6b56827e5"
      },
      "source": [
        "tr.get_text().split('\\n')[4]"
      ],
      "execution_count": 10,
      "outputs": [
        {
          "output_type": "execute_result",
          "data": {
            "application/vnd.google.colaboratory.intrinsic+json": {
              "type": "string"
            },
            "text/plain": [
              "'보이스'"
            ]
          },
          "metadata": {},
          "execution_count": 10
        }
      ]
    },
    {
      "cell_type": "code",
      "metadata": {
        "colab": {
          "base_uri": "https://localhost:8080/"
        },
        "id": "YttaHepiwWD6",
        "outputId": "06051401-83f3-48df-e2a4-13879432829a"
      },
      "source": [
        "tr.select_one('.ac')"
      ],
      "execution_count": 11,
      "outputs": [
        {
          "output_type": "execute_result",
          "data": {
            "text/plain": [
              "<td class=\"ac\"><img alt=\"01\" height=\"13\" src=\"https://ssl.pstatic.net/imgmovie/2007/img/common/bullet_r_r01.gif\" width=\"14\"/></td>"
            ]
          },
          "metadata": {},
          "execution_count": 11
        }
      ]
    },
    {
      "cell_type": "code",
      "metadata": {
        "colab": {
          "base_uri": "https://localhost:8080/"
        },
        "id": "7kHd5RGuuvlw",
        "outputId": "fb533b67-f03f-4cf2-e427-b70627153ca4"
      },
      "source": [
        "tr.select_one('.ac').select_one('img')"
      ],
      "execution_count": 12,
      "outputs": [
        {
          "output_type": "execute_result",
          "data": {
            "text/plain": [
              "<img alt=\"01\" height=\"13\" src=\"https://ssl.pstatic.net/imgmovie/2007/img/common/bullet_r_r01.gif\" width=\"14\"/>"
            ]
          },
          "metadata": {},
          "execution_count": 12
        }
      ]
    },
    {
      "cell_type": "code",
      "metadata": {
        "colab": {
          "base_uri": "https://localhost:8080/",
          "height": 36
        },
        "id": "oT62Po0Kwhmz",
        "outputId": "d438faf4-537b-42f4-ab37-b583a5323b46"
      },
      "source": [
        "str(tr.select_one('.ac').select_one('img')).split('\"')[1]"
      ],
      "execution_count": 13,
      "outputs": [
        {
          "output_type": "execute_result",
          "data": {
            "application/vnd.google.colaboratory.intrinsic+json": {
              "type": "string"
            },
            "text/plain": [
              "'01'"
            ]
          },
          "metadata": {},
          "execution_count": 13
        }
      ]
    },
    {
      "cell_type": "code",
      "metadata": {
        "colab": {
          "base_uri": "https://localhost:8080/",
          "height": 36
        },
        "id": "peTrfq4oxO-Y",
        "outputId": "7bde1f02-f0c0-4c63-d6a2-827e7b07ca8c"
      },
      "source": [
        "str(tr.select_one('a')).split('\"')[1]"
      ],
      "execution_count": 14,
      "outputs": [
        {
          "output_type": "execute_result",
          "data": {
            "application/vnd.google.colaboratory.intrinsic+json": {
              "type": "string"
            },
            "text/plain": [
              "'/movie/bi/mi/basic.naver?code=190320'"
            ]
          },
          "metadata": {},
          "execution_count": 14
        }
      ]
    },
    {
      "cell_type": "code",
      "metadata": {
        "colab": {
          "base_uri": "https://localhost:8080/"
        },
        "id": "Wl-v0fZLzhEL",
        "outputId": "c8329913-5ee0-4cad-dc05-8b8c2ebd5c4a"
      },
      "source": [
        "name = tr.get_text().split('\\n')[4]\n",
        "rank = str(tr.select_one('.ac').select_one('img')).split('\"')[1]\n",
        "row_link = str(tr.select_one('a')).split('\"')[1]\n",
        "link = f'https://movie.naver.com{row_link}'\n",
        "\n",
        "rank, name, link"
      ],
      "execution_count": 15,
      "outputs": [
        {
          "output_type": "execute_result",
          "data": {
            "text/plain": [
              "('01', '보이스', 'https://movie.naver.com/movie/bi/mi/basic.naver?code=190320')"
            ]
          },
          "metadata": {},
          "execution_count": 15
        }
      ]
    },
    {
      "cell_type": "markdown",
      "metadata": {
        "id": "mHNsXIvaFp-2"
      },
      "source": [
        "## 여러개 추출해보기"
      ]
    },
    {
      "cell_type": "code",
      "metadata": {
        "id": "C7QmoIk_FuKA"
      },
      "source": [
        "titles, ranks, links = [], [], []\n",
        "\n",
        "def chart():\n",
        "    for _ in range(len(trs)):\n",
        "        try:\n",
        "            tr = trs[_]\n",
        "            name = tr.get_text().split('\\n')[4]\n",
        "            rank = str(tr.select_one('.ac').select_one('img')).split('\"')[1]\n",
        "            rank = f'{int(rank):02d}'\n",
        "            row_link = str(tr.select_one('a')).split('\"')[1]\n",
        "            link = f'https://movie.naver.com{row_link}'\n",
        "\n",
        "            titles.append(name)\n",
        "            ranks.append(rank)\n",
        "            links.append(link)\n",
        "            \n",
        "        except:\n",
        "            pass\n",
        "\n",
        "chart()"
      ],
      "execution_count": 16,
      "outputs": []
    },
    {
      "cell_type": "code",
      "metadata": {
        "colab": {
          "base_uri": "https://localhost:8080/"
        },
        "id": "xMC1xfryJe0k",
        "outputId": "0a6c8da0-4016-487e-aab8-0728c255e989"
      },
      "source": [
        "for _ in range(5):\n",
        "    print(ranks[_], titles[_], links[_])"
      ],
      "execution_count": 17,
      "outputs": [
        {
          "output_type": "stream",
          "name": "stdout",
          "text": [
            "01 보이스 https://movie.naver.com/movie/bi/mi/basic.naver?code=190320\n",
            "02 기적 https://movie.naver.com/movie/bi/mi/basic.naver?code=199860\n",
            "03 샹치와 텐 링즈의 전설 https://movie.naver.com/movie/bi/mi/basic.naver?code=187348\n",
            "04 말리그넌트 https://movie.naver.com/movie/bi/mi/basic.naver?code=207370\n",
            "05 싱크홀 https://movie.naver.com/movie/bi/mi/basic.naver?code=188472\n"
          ]
        }
      ]
    },
    {
      "cell_type": "code",
      "metadata": {
        "id": "_jFk3jQnObyd"
      },
      "source": [
        "def chart_show(top):\n",
        "    chart()\n",
        "    for _ in range(top):\n",
        "        print(ranks[_], titles[_], links[_])"
      ],
      "execution_count": 18,
      "outputs": []
    },
    {
      "cell_type": "code",
      "metadata": {
        "colab": {
          "base_uri": "https://localhost:8080/"
        },
        "id": "cHN9wN8KPZw0",
        "outputId": "27ffa1fd-a6db-4042-90fc-2743b2ed20d5"
      },
      "source": [
        "chart_show(3)"
      ],
      "execution_count": 19,
      "outputs": [
        {
          "output_type": "stream",
          "name": "stdout",
          "text": [
            "01 보이스 https://movie.naver.com/movie/bi/mi/basic.naver?code=190320\n",
            "02 기적 https://movie.naver.com/movie/bi/mi/basic.naver?code=199860\n",
            "03 샹치와 텐 링즈의 전설 https://movie.naver.com/movie/bi/mi/basic.naver?code=187348\n"
          ]
        }
      ]
    },
    {
      "cell_type": "markdown",
      "metadata": {
        "id": "9JGEgCGJS6FH"
      },
      "source": [
        "## 합쳐서 보기"
      ]
    },
    {
      "cell_type": "code",
      "metadata": {
        "id": "zTBJrWayS6qf"
      },
      "source": [
        "import requests\n",
        "from bs4 import BeautifulSoup\n",
        "\n",
        "url = 'https://movie.naver.com/movie/sdb/rank/rmovie.naver'\n",
        "header = {'User-Agent':\n",
        "          'Mozilla/5.0 (X11; Linux x86_64) AppleWebKit/537.36 (KHTML, like Gecko) Chrome/51.0.2704.103 Safari/537.36'}\n",
        "req = requests.get(url, headers=header)\n",
        "html = req.text\n",
        "soup = BeautifulSoup(html, 'html.parser')\n",
        "table = soup.select_one('table.list_ranking')\n",
        "trs = table.select('tr')\n",
        "\n",
        "def chart():\n",
        "    titles, ranks, links = [], [], []\n",
        "    for _ in range(len(trs)):\n",
        "        try:\n",
        "            tr = trs[_]\n",
        "            name = tr.get_text().split('\\n')[4]\n",
        "            rank = str(tr.select_one('.ac').select_one('img')).split('\"')[1]\n",
        "            rank = f'{int(rank):02d}'\n",
        "            row_link = str(tr.select_one('a')).split('\"')[1]\n",
        "            link = f'https://movie.naver.com{row_link}'\n",
        "\n",
        "            titles.append(name)\n",
        "            ranks.append(rank)\n",
        "            links.append(link)\n",
        "        except:\n",
        "            pass\n",
        "def chart_show(top):\n",
        "    chart()\n",
        "    for _ in range(top):\n",
        "        print(ranks[_], titles[_], links[_])"
      ],
      "execution_count": 20,
      "outputs": []
    },
    {
      "cell_type": "code",
      "metadata": {
        "colab": {
          "base_uri": "https://localhost:8080/"
        },
        "id": "gHuN995WTuxw",
        "outputId": "387203fd-c9be-4860-c627-19076c9df94a"
      },
      "source": [
        "chart_show(3)"
      ],
      "execution_count": 21,
      "outputs": [
        {
          "output_type": "stream",
          "name": "stdout",
          "text": [
            "01 보이스 https://movie.naver.com/movie/bi/mi/basic.naver?code=190320\n",
            "02 기적 https://movie.naver.com/movie/bi/mi/basic.naver?code=199860\n",
            "03 샹치와 텐 링즈의 전설 https://movie.naver.com/movie/bi/mi/basic.naver?code=187348\n"
          ]
        }
      ]
    },
    {
      "cell_type": "code",
      "metadata": {
        "id": "-sqjnQPQPO_-"
      },
      "source": [
        ""
      ],
      "execution_count": 21,
      "outputs": []
    }
  ]
}