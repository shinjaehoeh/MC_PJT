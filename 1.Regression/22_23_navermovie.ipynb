{
  "nbformat": 4,
  "nbformat_minor": 0,
  "metadata": {
    "colab": {
      "name": "22-23_navermovie.ipynb",
      "provenance": [],
      "collapsed_sections": []
    },
    "kernelspec": {
      "name": "python3",
      "display_name": "Python 3"
    },
    "language_info": {
      "name": "python"
    }
  },
  "cells": [
    {
      "cell_type": "code",
      "metadata": {
        "id": "67mMCsiXeOWz",
        "colab": {
          "base_uri": "https://localhost:8080/"
        },
        "outputId": "c06fdbc7-83b9-4fd4-e9c8-34f245b0ca69"
      },
      "source": [
        "!pip install fastapi nest_asyncio pyngrok uvicorn"
      ],
      "execution_count": null,
      "outputs": [
        {
          "output_type": "stream",
          "name": "stdout",
          "text": [
            "Collecting fastapi\n",
            "  Downloading fastapi-0.68.1-py3-none-any.whl (52 kB)\n",
            "\u001b[?25l\r\u001b[K     |██████▎                         | 10 kB 28.3 MB/s eta 0:00:01\r\u001b[K     |████████████▌                   | 20 kB 29.5 MB/s eta 0:00:01\r\u001b[K     |██████████████████▉             | 30 kB 20.9 MB/s eta 0:00:01\r\u001b[K     |█████████████████████████       | 40 kB 17.4 MB/s eta 0:00:01\r\u001b[K     |███████████████████████████████▍| 51 kB 9.8 MB/s eta 0:00:01\r\u001b[K     |████████████████████████████████| 52 kB 1.1 MB/s \n",
            "\u001b[?25hRequirement already satisfied: nest_asyncio in /usr/local/lib/python3.7/dist-packages (1.5.1)\n",
            "Collecting pyngrok\n",
            "  Downloading pyngrok-5.1.0.tar.gz (745 kB)\n",
            "\u001b[K     |████████████████████████████████| 745 kB 14.3 MB/s \n",
            "\u001b[?25hCollecting uvicorn\n",
            "  Downloading uvicorn-0.15.0-py3-none-any.whl (54 kB)\n",
            "\u001b[K     |████████████████████████████████| 54 kB 3.4 MB/s \n",
            "\u001b[?25hCollecting pydantic!=1.7,!=1.7.1,!=1.7.2,!=1.7.3,!=1.8,!=1.8.1,<2.0.0,>=1.6.2\n",
            "  Downloading pydantic-1.8.2-cp37-cp37m-manylinux2014_x86_64.whl (10.1 MB)\n",
            "\u001b[K     |████████████████████████████████| 10.1 MB 51.1 MB/s \n",
            "\u001b[?25hCollecting starlette==0.14.2\n",
            "  Downloading starlette-0.14.2-py3-none-any.whl (60 kB)\n",
            "\u001b[K     |████████████████████████████████| 60 kB 8.6 MB/s \n",
            "\u001b[?25hRequirement already satisfied: typing-extensions>=3.7.4.3 in /usr/local/lib/python3.7/dist-packages (from pydantic!=1.7,!=1.7.1,!=1.7.2,!=1.7.3,!=1.8,!=1.8.1,<2.0.0,>=1.6.2->fastapi) (3.7.4.3)\n",
            "Requirement already satisfied: PyYAML in /usr/local/lib/python3.7/dist-packages (from pyngrok) (3.13)\n",
            "Collecting h11>=0.8\n",
            "  Downloading h11-0.12.0-py3-none-any.whl (54 kB)\n",
            "\u001b[K     |████████████████████████████████| 54 kB 3.7 MB/s \n",
            "\u001b[?25hCollecting asgiref>=3.4.0\n",
            "  Downloading asgiref-3.4.1-py3-none-any.whl (25 kB)\n",
            "Requirement already satisfied: click>=7.0 in /usr/local/lib/python3.7/dist-packages (from uvicorn) (7.1.2)\n",
            "Building wheels for collected packages: pyngrok\n",
            "  Building wheel for pyngrok (setup.py) ... \u001b[?25l\u001b[?25hdone\n",
            "  Created wheel for pyngrok: filename=pyngrok-5.1.0-py3-none-any.whl size=19006 sha256=3166217c135e28b0daf5fd7671670eaa7445ecebfa74548849653aacca245954\n",
            "  Stored in directory: /root/.cache/pip/wheels/bf/e6/af/ccf6598ecefecd44104069371795cb9b3afbcd16987f6ccfb3\n",
            "Successfully built pyngrok\n",
            "Installing collected packages: starlette, pydantic, h11, asgiref, uvicorn, pyngrok, fastapi\n",
            "Successfully installed asgiref-3.4.1 fastapi-0.68.1 h11-0.12.0 pydantic-1.8.2 pyngrok-5.1.0 starlette-0.14.2 uvicorn-0.15.0\n"
          ]
        }
      ]
    },
    {
      "cell_type": "code",
      "metadata": {
        "id": "52H1643SeRKI"
      },
      "source": [
        "import urllib\n",
        "from bs4 import BeautifulSoup\n",
        "\n",
        "def get_movies(rank):\n",
        "  result = ''\n",
        "  soup = BeautifulSoup(urllib.request.urlopen('http://movie.naver.com/movie/sdb/rank/rmovie.nhn?sel=pnt&date=20161120').read(), 'html.parser')\n",
        "  res = soup.find_all('div', 'tit5')\n",
        "  for i in range(rank):\n",
        "    result += \"<p>%d - %s\\n\"%(i+1,res[i].get_text().strip())\n",
        "  return result"
      ],
      "execution_count": null,
      "outputs": []
    },
    {
      "cell_type": "code",
      "metadata": {
        "id": "KJE599qDeRNG",
        "colab": {
          "base_uri": "https://localhost:8080/"
        },
        "outputId": "386041a6-ada2-49fb-d7b4-9a99d62967b9"
      },
      "source": [
        "from fastapi import FastAPI\n",
        "from fastapi.responses import HTMLResponse\n",
        "import nest_asyncio\n",
        "from pyngrok import ngrok\n",
        "import uvicorn\n",
        "app = FastAPI()\n",
        "\n",
        "@app.get('/movies/', response_class=HTMLResponse)\n",
        "async def getMovies(rank:int):\n",
        "  return get_movies(rank)\n",
        "\n",
        "ngrok_tunnel = ngrok.connect(8000)\n",
        "print ('Public URL:', ngrok_tunnel.public_url)\n",
        "nest_asyncio.apply()\n",
        "uvicorn.run(app, host='0.0.0.0', port=8000)"
      ],
      "execution_count": null,
      "outputs": [
        {
          "output_type": "stream",
          "name": "stdout",
          "text": [
            ""
          ]
        },
        {
          "output_type": "stream",
          "name": "stderr",
          "text": [
            "INFO:     Started server process [64]\n",
            "INFO:     Waiting for application startup.\n",
            "INFO:     Application startup complete.\n",
            "INFO:     Uvicorn running on http://0.0.0.0:8000 (Press CTRL+C to quit)\n"
          ]
        },
        {
          "output_type": "stream",
          "name": "stdout",
          "text": [
            "Public URL: http://e80f-34-125-222-111.ngrok.io\n",
            "INFO:     175.124.143.3:0 - \"GET / HTTP/1.1\" 404 Not Found\n",
            "INFO:     175.124.143.3:0 - \"GET /favicon.ico HTTP/1.1\" 404 Not Found\n",
            "INFO:     175.124.143.3:0 - \"GET / HTTP/1.1\" 404 Not Found\n",
            "INFO:     175.124.143.3:0 - \"GET /movies/5 HTTP/1.1\" 404 Not Found\n",
            "INFO:     175.124.143.3:0 - \"GET /favicon.ico HTTP/1.1\" 404 Not Found\n",
            "INFO:     175.124.143.3:0 - \"GET /movies/?=5 HTTP/1.1\" 422 Unprocessable Entity\n",
            "INFO:     175.124.143.3:0 - \"GET /movies/?5 HTTP/1.1\" 422 Unprocessable Entity\n",
            "INFO:     175.124.143.3:0 - \"GET /movies/?rank=5 HTTP/1.1\" 200 OK\n",
            "INFO:     175.124.143.3:0 - \"GET /movies/?rank=8 HTTP/1.1\" 200 OK\n"
          ]
        },
        {
          "output_type": "stream",
          "name": "stderr",
          "text": [
            "INFO:     Shutting down\n",
            "INFO:     Waiting for application shutdown.\n",
            "INFO:     Application shutdown complete.\n",
            "INFO:     Finished server process [64]\n"
          ]
        }
      ]
    },
    {
      "cell_type": "markdown",
      "metadata": {
        "id": "rI-qNKUYnywF"
      },
      "source": [
        "링크 예시\n",
        "\n",
        "https://e80f-34-125-222-111.ngrok.io/movies/?rank=6"
      ]
    }
  ]
}