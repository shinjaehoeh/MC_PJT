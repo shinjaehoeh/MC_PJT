{
  "nbformat": 4,
  "nbformat_minor": 0,
  "metadata": {
    "colab": {
      "name": "24_apiUpload.ipynb",
      "provenance": [],
      "collapsed_sections": []
    },
    "kernelspec": {
      "name": "python3",
      "display_name": "Python 3"
    },
    "language_info": {
      "name": "python"
    }
  },
  "cells": [
    {
      "cell_type": "code",
      "metadata": {
        "id": "WKQExDWlfK7L"
      },
      "source": [
        "!pip install fastapi nest-asyncio pyngrok uvicorn python-multipart > /dev/null"
      ],
      "execution_count": 2,
      "outputs": []
    },
    {
      "cell_type": "code",
      "metadata": {
        "colab": {
          "base_uri": "https://localhost:8080/"
        },
        "id": "yy1RfRI3cHkP",
        "outputId": "9eb464ff-aa9f-4bb9-e2c5-463e0747d1c4"
      },
      "source": [
        "from fastapi import FastAPI, File, UploadFile\n",
        "from typing import List\n",
        "import os\n",
        "import nest_asyncio\n",
        "from pyngrok import ngrok\n",
        "import uvicorn\n",
        "\n",
        "app = FastAPI()\n",
        "\n",
        "@app.post(\"/uploadfiles\")\n",
        "async def create_upload_files(files: List[UploadFile] = File(...)):\n",
        "    UPLOAD_DIRECTORY = \"./\"\n",
        "    for file in files:\n",
        "        contents = await file.read()\n",
        "        with open(os.path.join(UPLOAD_DIRECTORY, file.filename), \"wb\") as fp:\n",
        "            fp.write(contents)\n",
        "        print(file.filename)\n",
        "    return {\"filenames\": [file.filename for file in files]}\n",
        "\n",
        "ngrok_tunnel = ngrok.connect(8000)\n",
        "print ('Public URL:', ngrok_tunnel.public_url)\n",
        "nest_asyncio.apply()\n",
        "uvicorn.run(app, host='0.0.0.0', port=8000)"
      ],
      "execution_count": 3,
      "outputs": [
        {
          "output_type": "stream",
          "name": "stdout",
          "text": [
            ""
          ]
        },
        {
          "output_type": "stream",
          "name": "stderr",
          "text": [
            "INFO:     Started server process [63]\n",
            "INFO:     Waiting for application startup.\n",
            "INFO:     Application startup complete.\n",
            "INFO:     Uvicorn running on http://0.0.0.0:8000 (Press CTRL+C to quit)\n"
          ]
        },
        {
          "output_type": "stream",
          "name": "stdout",
          "text": [
            "Public URL: http://b47e-35-231-207-47.ngrok.io\n",
            "INFO:     175.124.143.3:0 - \"GET / HTTP/1.1\" 404 Not Found\n",
            "INFO:     175.124.143.3:0 - \"GET /favicon.ico HTTP/1.1\" 404 Not Found\n",
            "INFO:     175.124.143.3:0 - \"GET /docs HTTP/1.1\" 200 OK\n",
            "INFO:     175.124.143.3:0 - \"GET /openapi.json HTTP/1.1\" 200 OK\n",
            "화면 캡처 2021-09-24 161012.png\n",
            "INFO:     175.124.143.3:0 - \"POST /uploadfiles HTTP/1.1\" 200 OK\n"
          ]
        },
        {
          "output_type": "stream",
          "name": "stderr",
          "text": [
            "INFO:     Shutting down\n",
            "INFO:     Waiting for application shutdown.\n",
            "INFO:     Application shutdown complete.\n",
            "INFO:     Finished server process [63]\n"
          ]
        }
      ]
    },
    {
      "cell_type": "markdown",
      "metadata": {
        "id": "LYp4NWfb5Tg9"
      },
      "source": [
        "https://b47e-35-231-207-47.ngrok.io/docs"
      ]
    },
    {
      "cell_type": "code",
      "metadata": {
        "id": "p49qVsTIfE4X"
      },
      "source": [
        ""
      ],
      "execution_count": null,
      "outputs": []
    }
  ]
}