{
  "nbformat": 4,
  "nbformat_minor": 0,
  "metadata": {
    "colab": {
      "name": "26_templates.ipynb",
      "provenance": [],
      "collapsed_sections": []
    },
    "kernelspec": {
      "name": "python3",
      "display_name": "Python 3"
    },
    "language_info": {
      "name": "python"
    }
  },
  "cells": [
    {
      "cell_type": "code",
      "metadata": {
        "id": "Qn7cgVtaR5YM"
      },
      "source": [
        "!pip install fastapi nest-asyncio pyngrok uvicorn aiofiles python-multipart > /dev/null"
      ],
      "execution_count": 1,
      "outputs": []
    },
    {
      "cell_type": "code",
      "metadata": {
        "id": "6ElEWU3USvUx"
      },
      "source": [
        "!mkdir templates\n",
        "!touch ./templates/item.html\n",
        "f = open('./templates/item.html', 'w')\n",
        "f.write('<html>\\n<head>\\n\\\n",
        "\\t<title>Item Details</title>\\n\\\n",
        "\\t<link href=\"{{ url_for(\\'static\\', path=\\'/styles.css\\') }}\" rel=\"stylesheet\">\\n\\\n",
        "</head>\\n<body>\\n\\\n",
        "\\t<h1>Item ID: {{ id }}</h1>\\n\\\n",
        "</body>\\n<html>')\n",
        "f.close()"
      ],
      "execution_count": null,
      "outputs": []
    },
    {
      "cell_type": "code",
      "metadata": {
        "id": "5PQmZj8Gexxu"
      },
      "source": [
        "!mkdir static"
      ],
      "execution_count": 3,
      "outputs": []
    },
    {
      "cell_type": "code",
      "metadata": {
        "colab": {
          "base_uri": "https://localhost:8080/"
        },
        "id": "nNIp8nq7epyc",
        "outputId": "072c2937-7b52-4c6d-c254-615d8f259d4b"
      },
      "source": [
        "%%writefile ./static/styles.css\n",
        "h1 { \n",
        " color: green; \n",
        "}"
      ],
      "execution_count": 4,
      "outputs": [
        {
          "output_type": "stream",
          "name": "stdout",
          "text": [
            "Writing ./static/styles.css\n"
          ]
        }
      ]
    },
    {
      "cell_type": "code",
      "metadata": {
        "colab": {
          "base_uri": "https://localhost:8080/"
        },
        "id": "VAI74Iu2RXQi",
        "outputId": "ac9959d5-3eba-4980-8562-c9fb1b603059"
      },
      "source": [
        "from fastapi import FastAPI, Request\n",
        "from fastapi.responses import HTMLResponse\n",
        "from fastapi.staticfiles import StaticFiles\n",
        "from fastapi.templating import Jinja2Templates\n",
        "\n",
        "import nest_asyncio\n",
        "from pyngrok import ngrok\n",
        "import uvicorn\n",
        "\n",
        "app = FastAPI()\n",
        "\n",
        "app.mount(\"/static\", StaticFiles(directory=\"static\"), name=\"static\")\n",
        "\n",
        "templates = Jinja2Templates(directory=\"templates\")\n",
        "\n",
        "@app.get(\"/items/{id}\", response_class=HTMLResponse)\n",
        "async def read_item(request: Request, id: str):\n",
        "    return templates.TemplateResponse(\"item.html\", {\"request\": request, \"id\": id})\n",
        "\n",
        "ngrok_tunnel = ngrok.connect(8000)\n",
        "print('Public URL:', ngrok_tunnel.public_url)\n",
        "nest_asyncio.apply()\n",
        "uvicorn.run(app, host='0.0.0.0', port=8000)"
      ],
      "execution_count": 5,
      "outputs": [
        {
          "output_type": "stream",
          "name": "stdout",
          "text": [
            ""
          ]
        },
        {
          "output_type": "stream",
          "name": "stderr",
          "text": [
            "INFO:     Started server process [63]\n",
            "INFO:     Waiting for application startup.\n",
            "INFO:     Application startup complete.\n",
            "INFO:     Uvicorn running on http://0.0.0.0:8000 (Press CTRL+C to quit)\n"
          ]
        },
        {
          "output_type": "stream",
          "name": "stdout",
          "text": [
            "Public URL: http://0ecc-34-90-188-247.ngrok.io\n",
            "INFO:     175.124.143.3:0 - \"GET / HTTP/1.1\" 404 Not Found\n",
            "INFO:     175.124.143.3:0 - \"GET /favicon.ico HTTP/1.1\" 404 Not Found\n",
            "INFO:     175.124.143.3:0 - \"GET /items/test1 HTTP/1.1\" 200 OK\n",
            "INFO:     175.124.143.3:0 - \"GET /static/styles.css HTTP/1.1\" 200 OK\n",
            "INFO:     175.124.143.3:0 - \"GET /favicon.ico HTTP/1.1\" 404 Not Found\n"
          ]
        },
        {
          "output_type": "stream",
          "name": "stderr",
          "text": [
            "INFO:     Shutting down\n",
            "INFO:     Waiting for application shutdown.\n",
            "INFO:     Application shutdown complete.\n",
            "INFO:     Finished server process [63]\n"
          ]
        }
      ]
    },
    {
      "cell_type": "markdown",
      "metadata": {
        "id": "hIfvVzIhsRaW"
      },
      "source": [
        "https://0ecc-34-90-188-247.ngrok.io/items/test1"
      ]
    },
    {
      "cell_type": "code",
      "metadata": {
        "id": "UVj8kPUASHV2"
      },
      "source": [
        ""
      ],
      "execution_count": null,
      "outputs": []
    }
  ]
}