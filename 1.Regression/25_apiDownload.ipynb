{
  "nbformat": 4,
  "nbformat_minor": 0,
  "metadata": {
    "colab": {
      "name": "25_apiDownload.ipynb",
      "provenance": [],
      "collapsed_sections": []
    },
    "kernelspec": {
      "name": "python3",
      "display_name": "Python 3"
    },
    "language_info": {
      "name": "python"
    }
  },
  "cells": [
    {
      "cell_type": "code",
      "metadata": {
        "id": "Gd0I_pQqsrHX"
      },
      "source": [
        "!pip install fastapi uvicorn pyngrok nest_asyncio aiofiles python-multipart > /dev/null"
      ],
      "execution_count": 1,
      "outputs": []
    },
    {
      "cell_type": "code",
      "metadata": {
        "id": "TuLC73DGpqp5"
      },
      "source": [
        "!touch test.txt"
      ],
      "execution_count": 2,
      "outputs": []
    },
    {
      "cell_type": "code",
      "metadata": {
        "colab": {
          "base_uri": "https://localhost:8080/"
        },
        "id": "7-UvQArFpSRF",
        "outputId": "82b39707-c0d8-45e8-cd70-27fb59eda1f4"
      },
      "source": [
        "from fastapi import FastAPI\n",
        "import nest_asyncio\n",
        "from pyngrok import ngrok\n",
        "from fastapi import File, UploadFile\n",
        "from fastapi.responses import FileResponse\n",
        "from typing import List\n",
        "import os\n",
        "import uvicorn\n",
        "\n",
        "app = FastAPI()\n",
        "\n",
        "@app.get('/getfile/{fn}')\n",
        "async def getFile(fn:str):\n",
        "  fp = os.getcwd() + '/' + fn\n",
        "  return FileResponse(path=fn, media_type='application/octet-stream', filename=fn)\n",
        "\n",
        "nt = ngrok.connect(8000)\n",
        "print (nt.public_url)\n",
        "nest_asyncio.apply()\n",
        "uvicorn.run(app,host='0.0.0.0',port=8000)"
      ],
      "execution_count": 3,
      "outputs": [
        {
          "output_type": "stream",
          "name": "stdout",
          "text": [
            ""
          ]
        },
        {
          "output_type": "stream",
          "name": "stderr",
          "text": [
            "INFO:     Started server process [64]\n",
            "INFO:     Waiting for application startup.\n",
            "INFO:     Application startup complete.\n",
            "INFO:     Uvicorn running on http://0.0.0.0:8000 (Press CTRL+C to quit)\n"
          ]
        },
        {
          "output_type": "stream",
          "name": "stdout",
          "text": [
            "http://3d2b-104-196-29-78.ngrok.io\n",
            "INFO:     175.124.143.3:0 - \"GET / HTTP/1.1\" 404 Not Found\n",
            "INFO:     175.124.143.3:0 - \"GET /favicon.ico HTTP/1.1\" 404 Not Found\n",
            "INFO:     175.124.143.3:0 - \"GET / HTTP/1.1\" 404 Not Found\n",
            "INFO:     175.124.143.3:0 - \"GET /docs HTTP/1.1\" 200 OK\n",
            "INFO:     175.124.143.3:0 - \"GET /openapi.json HTTP/1.1\" 200 OK\n",
            "INFO:     175.124.143.3:0 - \"GET /getfile/test.txt HTTP/1.1\" 200 OK\n",
            "INFO:     175.124.143.3:0 - \"GET / HTTP/1.1\" 404 Not Found\n",
            "INFO:     175.124.143.3:0 - \"GET /docs HTTP/1.1\" 200 OK\n",
            "INFO:     175.124.143.3:0 - \"GET /openapi.json HTTP/1.1\" 200 OK\n"
          ]
        },
        {
          "output_type": "stream",
          "name": "stderr",
          "text": [
            "INFO:     Shutting down\n",
            "INFO:     Waiting for application shutdown.\n",
            "INFO:     Application shutdown complete.\n",
            "INFO:     Finished server process [64]\n"
          ]
        }
      ]
    },
    {
      "cell_type": "markdown",
      "metadata": {
        "id": "jtZQQvte1wXA"
      },
      "source": [
        "https://3d2b-104-196-29-78.ngrok.io/docs"
      ]
    }
  ]
}