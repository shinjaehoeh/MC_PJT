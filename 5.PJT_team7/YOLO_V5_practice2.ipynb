{
  "nbformat": 4,
  "nbformat_minor": 0,
  "metadata": {
    "colab": {
      "name": "YOLO_V5_practice2.ipynb",
      "provenance": []
    },
    "kernelspec": {
      "name": "python3",
      "display_name": "Python 3"
    },
    "language_info": {
      "name": "python"
    },
    "accelerator": "GPU"
  },
  "cells": [
    {
      "cell_type": "markdown",
      "metadata": {
        "id": "IlTUHbZDO61r"
      },
      "source": [
        "# 데이터준비"
      ]
    },
    {
      "cell_type": "code",
      "metadata": {
        "colab": {
          "base_uri": "https://localhost:8080/"
        },
        "id": "GIIMumzlO222",
        "outputId": "33172920-7111-4daa-8906-0778743b601f"
      },
      "source": [
        "from google.colab import drive\n",
        "drive.mount('/content/drive')"
      ],
      "execution_count": null,
      "outputs": [
        {
          "output_type": "stream",
          "name": "stdout",
          "text": [
            "Mounted at /content/drive\n"
          ]
        }
      ]
    },
    {
      "cell_type": "code",
      "metadata": {
        "id": "7elb9wumq1L2"
      },
      "source": [
        "!mkdir /content/dataset\n",
        "%cd /content/dataset\n",
        "!curl -L \"https://app.roboflow.com/ds/jU84IROEqy?key=aaTQANWgwe\" > roboflow.zip; unzip roboflow.zip; rm roboflow.zip"
      ],
      "execution_count": null,
      "outputs": []
    },
    {
      "cell_type": "code",
      "metadata": {
        "id": "pvbcITLvORA6"
      },
      "source": [
        "!mkdir /content/tmp\n",
        "!mkdir /content/tmp/lighter\n",
        "%cd /content/tmp/lighter\n",
        "!curl -L \"https://app.roboflow.com/ds/fDDCIgfHDI?key=yS2mmIXSii\" > roboflow.zip; unzip roboflow.zip; rm roboflow.zip"
      ],
      "execution_count": null,
      "outputs": []
    },
    {
      "cell_type": "code",
      "metadata": {
        "id": "J4dHnK-jQYxv"
      },
      "source": [
        "import os\n",
        "import shutil\n",
        "import time\n",
        "\n",
        "def read_all_file(path):\n",
        "    output = os.listdir(path)\n",
        "    file_list = []\n",
        "\n",
        "    for i in output:\n",
        "        if os.path.isdir(path+\"/\"+i):\n",
        "            file_list.extend(read_all_file(path+\"/\"+i))\n",
        "        elif os.path.isfile(path+\"/\"+i):\n",
        "            file_list.append(path+\"/\"+i)\n",
        "    \n",
        "    return file_list\n",
        "    \n",
        "def copy_all_file(file_list, new_path):\n",
        "    for src_path in file_list:\n",
        "        file = src_path.split(\"/\")[-1]\n",
        "        shutil.copyfile(src_path, new_path+\"/\"+file)\n",
        "        print(\"파일 {} 작업 완료\".format(file))\n",
        "        # 작업한 파일명 출력"
      ],
      "execution_count": null,
      "outputs": []
    },
    {
      "cell_type": "code",
      "metadata": {
        "id": "8pGxNfhEQfOg"
      },
      "source": [
        "start_time = time.time() # 작업 시작 시간\n",
        "\n",
        "src_path = '/content/tmp/lighter/train/images' # 기존 폴더 경로\n",
        "new_path = '/content/dataset/train/images' # 옮길 폴더 경로\n",
        "\n",
        "file_list = read_all_file(src_path)\n",
        "copy_all_file(file_list, new_path)\n",
        "\n",
        "print(\"=\" * 40)\n",
        "print(\"러닝 타임 : {}\".format(time.time() - start_time)) # 총 소요시간 계산"
      ],
      "execution_count": null,
      "outputs": []
    },
    {
      "cell_type": "code",
      "metadata": {
        "id": "p4zgDRrsOQw_"
      },
      "source": [
        "!mkdir /content/tmp\n",
        "!mkdir /content/tmp/knife\n",
        "%cd /content/tmp/knife\n",
        "!curl -L \"https://app.roboflow.com/ds/ht5Q34Yrmx?key=9zJ1d8PBaK\" > roboflow.zip; unzip roboflow.zip; rm roboflow.zip"
      ],
      "execution_count": null,
      "outputs": []
    },
    {
      "cell_type": "code",
      "metadata": {
        "id": "3UU1OIgNSK1m"
      },
      "source": [
        "start_time = time.time() # 작업 시작 시간\n",
        "\n",
        "src_path = '/content/tmp/knife/train/images' # 기존 폴더 경로\n",
        "new_path = '/content/dataset/train/images' # 옮길 폴더 경로\n",
        "\n",
        "file_list = read_all_file(src_path)\n",
        "copy_all_file(file_list, new_path)\n",
        "\n",
        "print(\"=\" * 40)\n",
        "print(\"러닝 타임 : {}\".format(time.time() - start_time)) # 총 소요시간 계산"
      ],
      "execution_count": null,
      "outputs": []
    },
    {
      "cell_type": "code",
      "metadata": {
        "id": "nPbIfb8ErDS8"
      },
      "source": [
        "%cd /content/\n",
        "!git clone https://github.com/ultralytics/yolov5.git\n",
        "\n",
        "%cd /content/yolov5/\n",
        "!pip install -r requirements.txt"
      ],
      "execution_count": null,
      "outputs": []
    },
    {
      "cell_type": "markdown",
      "metadata": {
        "id": "sbesEfyyO_dS"
      },
      "source": [
        "# 학습과정"
      ]
    },
    {
      "cell_type": "code",
      "metadata": {
        "colab": {
          "base_uri": "https://localhost:8080/"
        },
        "id": "pM-Petsirh5M",
        "outputId": "8c37288f-6247-444c-969d-9b1cc1de8124"
      },
      "source": [
        "%cat /content/tmp/lighter/data.yaml"
      ],
      "execution_count": null,
      "outputs": [
        {
          "output_type": "stream",
          "name": "stdout",
          "text": [
            "train: ../train/images\n",
            "val: ../valid/images\n",
            "\n",
            "nc: 18\n",
            "names: ['Axe', 'Chisel', 'Firecracker', 'Gun', 'HDD', 'Hammer', 'HandCuffs', 'Knife', 'Lighter', 'Plier', 'Saw', 'Scissors', 'Screwdriver', 'SmartPhone', 'Spanner', 'SupplymentaryBattery', 'Throwing Knife', 'USB']"
          ]
        }
      ]
    },
    {
      "cell_type": "code",
      "metadata": {
        "colab": {
          "base_uri": "https://localhost:8080/"
        },
        "id": "B2_jZw6uQ5yU",
        "outputId": "59d44820-d179-44d4-aa37-d816c3fe053f"
      },
      "source": [
        "%cat /content/dataset/data.yaml"
      ],
      "execution_count": null,
      "outputs": [
        {
          "output_type": "stream",
          "name": "stdout",
          "text": [
            "names:\n",
            "- Axe\n",
            "- Chisel\n",
            "- Gun\n",
            "- HDD\n",
            "- HandCuffs\n",
            "- Knife\n",
            "- Lighter\n",
            "- Plier\n",
            "- Saw\n",
            "- Scissors\n",
            "- Screwdriver\n",
            "- SmartPhone\n",
            "- Spanner\n",
            "- SupplymentaryBattery\n",
            "nc: 14\n",
            "train: /content/dataset/train.txt\n",
            "val: /content/dataset/val.txt\n"
          ]
        }
      ]
    },
    {
      "cell_type": "code",
      "metadata": {
        "colab": {
          "base_uri": "https://localhost:8080/"
        },
        "id": "58cEvpoErmTz",
        "outputId": "96b102ce-3131-43c6-a2da-897a0110d3c0"
      },
      "source": [
        "from glob import glob\n",
        "\n",
        "img_list = glob('/content/dataset/train/images/*.jpg')\n",
        "\n",
        "print(len(img_list))"
      ],
      "execution_count": null,
      "outputs": [
        {
          "output_type": "stream",
          "name": "stdout",
          "text": [
            "12533\n"
          ]
        }
      ]
    },
    {
      "cell_type": "code",
      "metadata": {
        "colab": {
          "base_uri": "https://localhost:8080/"
        },
        "id": "YTASP37VrtEE",
        "outputId": "47ff5a70-ac42-47a3-f5e8-507cff252bba"
      },
      "source": [
        "from sklearn.model_selection import train_test_split\n",
        "\n",
        "train_img_list, val_img_list = train_test_split(img_list, test_size=0.2, random_state=2021)\n",
        "\n",
        "print(len(train_img_list), len(val_img_list))"
      ],
      "execution_count": null,
      "outputs": [
        {
          "output_type": "stream",
          "name": "stdout",
          "text": [
            "10026 2507\n"
          ]
        }
      ]
    },
    {
      "cell_type": "code",
      "metadata": {
        "id": "viUm3b6-sWHT"
      },
      "source": [
        "with open('/content/dataset/train.txt', 'w') as f:\n",
        "    f.write('\\n'.join(train_img_list) + '\\n')\n",
        "\n",
        "with open('/content/dataset/val.txt', 'w') as f:\n",
        "    f.write('\\n'.join(val_img_list) + '\\n')"
      ],
      "execution_count": null,
      "outputs": []
    },
    {
      "cell_type": "code",
      "metadata": {
        "colab": {
          "base_uri": "https://localhost:8080/"
        },
        "id": "Ig4Lh0g2sZRj",
        "outputId": "d2ff8130-34e6-4729-bf23-497781ae7cd4"
      },
      "source": [
        "import yaml\n",
        "\n",
        "with open('/content/dataset/data.yaml', 'r') as f:\n",
        "    data = yaml.safe_load(f)\n",
        "\n",
        "print(type(data), data)\n",
        "\n",
        "data['train'] = '/content/dataset/train.txt'\n",
        "data['val'] = '/content/dataset/val.txt'\n",
        "\n",
        "with open('/content/dataset/data.yaml', 'w') as f:\n",
        "    yaml.dump(data, f)\n",
        "\n",
        "print(type(data), data)"
      ],
      "execution_count": null,
      "outputs": [
        {
          "output_type": "stream",
          "name": "stdout",
          "text": [
            "<class 'dict'> {'train': '../train/images', 'val': '../valid/images', 'nc': 14, 'names': ['Axe', 'Chisel', 'Gun', 'HDD', 'HandCuffs', 'Knife', 'Lighter', 'Plier', 'Saw', 'Scissors', 'Screwdriver', 'SmartPhone', 'Spanner', 'SupplymentaryBattery']}\n",
            "<class 'dict'> {'train': '/content/dataset/train.txt', 'val': '/content/dataset/val.txt', 'nc': 14, 'names': ['Axe', 'Chisel', 'Gun', 'HDD', 'HandCuffs', 'Knife', 'Lighter', 'Plier', 'Saw', 'Scissors', 'Screwdriver', 'SmartPhone', 'Spanner', 'SupplymentaryBattery']}\n"
          ]
        }
      ]
    },
    {
      "cell_type": "code",
      "metadata": {
        "colab": {
          "base_uri": "https://localhost:8080/"
        },
        "id": "LZQdEwe2soOj",
        "outputId": "69a484f0-0fcc-4dcc-d44a-6d525968f467"
      },
      "source": [
        "%cd /content/yolov5/\n",
        "\n",
        "!python train.py --name total_yolov5s_results \\\n",
        "--img 416 --batch 16 --cfg ./models/yolov5s.yaml --weights yolov5s.pt \\\n",
        "--epochs 5 --data /content/dataset/data.yaml"
      ],
      "execution_count": null,
      "outputs": [
        {
          "output_type": "stream",
          "name": "stdout",
          "text": [
            "/content/yolov5\n",
            "Downloading https://ultralytics.com/assets/Arial.ttf to /root/.config/Ultralytics/Arial.ttf...\n",
            "\u001b[34m\u001b[1mtrain: \u001b[0mweights=yolov5s.pt, cfg=./models/yolov5s.yaml, data=/content/dataset/data.yaml, hyp=data/hyps/hyp.scratch.yaml, epochs=5, batch_size=16, imgsz=416, rect=False, resume=False, nosave=False, noval=False, noautoanchor=False, evolve=None, bucket=, cache=None, image_weights=False, device=, multi_scale=False, single_cls=False, adam=False, sync_bn=False, workers=8, project=runs/train, name=total_yolov5s_results, exist_ok=False, quad=False, linear_lr=False, label_smoothing=0.0, patience=100, freeze=0, save_period=-1, local_rank=-1, entity=None, upload_dataset=False, bbox_interval=-1, artifact_alias=latest\n",
            "\u001b[34m\u001b[1mgithub: \u001b[0mup to date with https://github.com/ultralytics/yolov5 ✅\n",
            "YOLOv5 🚀 v6.0-114-ga4207a2 torch 1.10.0+cu111 CUDA:0 (Tesla P100-PCIE-16GB, 16281MiB)\n",
            "\n",
            "\u001b[34m\u001b[1mhyperparameters: \u001b[0mlr0=0.01, lrf=0.1, momentum=0.937, weight_decay=0.0005, warmup_epochs=3.0, warmup_momentum=0.8, warmup_bias_lr=0.1, box=0.05, cls=0.5, cls_pw=1.0, obj=1.0, obj_pw=1.0, iou_t=0.2, anchor_t=4.0, fl_gamma=0.0, hsv_h=0.015, hsv_s=0.7, hsv_v=0.4, degrees=0.0, translate=0.1, scale=0.5, shear=0.0, perspective=0.0, flipud=0.0, fliplr=0.5, mosaic=1.0, mixup=0.0, copy_paste=0.0\n",
            "\u001b[34m\u001b[1mWeights & Biases: \u001b[0mrun 'pip install wandb' to automatically track and visualize YOLOv5 🚀 runs (RECOMMENDED)\n",
            "\u001b[34m\u001b[1mTensorBoard: \u001b[0mStart with 'tensorboard --logdir runs/train', view at http://localhost:6006/\n",
            "Downloading https://github.com/ultralytics/yolov5/releases/download/v6.0/yolov5s.pt to yolov5s.pt...\n",
            "100% 14.0M/14.0M [00:00<00:00, 65.9MB/s]\n",
            "\n",
            "Overriding model.yaml nc=80 with nc=14\n",
            "\n",
            "                 from  n    params  module                                  arguments                     \n",
            "  0                -1  1      3520  models.common.Conv                      [3, 32, 6, 2, 2]              \n",
            "  1                -1  1     18560  models.common.Conv                      [32, 64, 3, 2]                \n",
            "  2                -1  1     18816  models.common.C3                        [64, 64, 1]                   \n",
            "  3                -1  1     73984  models.common.Conv                      [64, 128, 3, 2]               \n",
            "  4                -1  2    115712  models.common.C3                        [128, 128, 2]                 \n",
            "  5                -1  1    295424  models.common.Conv                      [128, 256, 3, 2]              \n",
            "  6                -1  3    625152  models.common.C3                        [256, 256, 3]                 \n",
            "  7                -1  1   1180672  models.common.Conv                      [256, 512, 3, 2]              \n",
            "  8                -1  1   1182720  models.common.C3                        [512, 512, 1]                 \n",
            "  9                -1  1    656896  models.common.SPPF                      [512, 512, 5]                 \n",
            " 10                -1  1    131584  models.common.Conv                      [512, 256, 1, 1]              \n",
            " 11                -1  1         0  torch.nn.modules.upsampling.Upsample    [None, 2, 'nearest']          \n",
            " 12           [-1, 6]  1         0  models.common.Concat                    [1]                           \n",
            " 13                -1  1    361984  models.common.C3                        [512, 256, 1, False]          \n",
            " 14                -1  1     33024  models.common.Conv                      [256, 128, 1, 1]              \n",
            " 15                -1  1         0  torch.nn.modules.upsampling.Upsample    [None, 2, 'nearest']          \n",
            " 16           [-1, 4]  1         0  models.common.Concat                    [1]                           \n",
            " 17                -1  1     90880  models.common.C3                        [256, 128, 1, False]          \n",
            " 18                -1  1    147712  models.common.Conv                      [128, 128, 3, 2]              \n",
            " 19          [-1, 14]  1         0  models.common.Concat                    [1]                           \n",
            " 20                -1  1    296448  models.common.C3                        [256, 256, 1, False]          \n",
            " 21                -1  1    590336  models.common.Conv                      [256, 256, 3, 2]              \n",
            " 22          [-1, 10]  1         0  models.common.Concat                    [1]                           \n",
            " 23                -1  1   1182720  models.common.C3                        [512, 512, 1, False]          \n",
            " 24      [17, 20, 23]  1     51243  models.yolo.Detect                      [14, [[10, 13, 16, 30, 33, 23], [30, 61, 62, 45, 59, 119], [116, 90, 156, 198, 373, 326]], [128, 256, 512]]\n",
            "Model Summary: 270 layers, 7057387 parameters, 7057387 gradients, 16.0 GFLOPs\n",
            "\n",
            "Transferred 342/349 items from yolov5s.pt\n",
            "Scaled weight_decay = 0.0005\n",
            "\u001b[34m\u001b[1moptimizer:\u001b[0m SGD with parameter groups 57 weight, 60 weight (no decay), 60 bias\n",
            "\u001b[34m\u001b[1malbumentations: \u001b[0mversion 1.0.3 required by YOLOv5, but version 0.1.12 is currently installed\n",
            "\u001b[34m\u001b[1mtrain: \u001b[0mScanning '/content/dataset/train' images and labels...5275 found, 4751 missing, 0 empty, 0 corrupted: 100% 10026/10026 [00:05<00:00, 1816.37it/s]\n",
            "\u001b[34m\u001b[1mtrain: \u001b[0mNew cache created: /content/dataset/train.cache\n",
            "\u001b[34m\u001b[1mval: \u001b[0mScanning '/content/dataset/val' images and labels...1328 found, 1179 missing, 0 empty, 0 corrupted: 100% 2507/2507 [00:01<00:00, 1308.07it/s]\n",
            "\u001b[34m\u001b[1mval: \u001b[0mNew cache created: /content/dataset/val.cache\n",
            "Plotting labels to runs/train/total_yolov5s_results/labels.jpg... \n",
            "\n",
            "\u001b[34m\u001b[1mAutoAnchor: \u001b[0m5.32 anchors/target, 1.000 Best Possible Recall (BPR). Current anchors are a good fit to dataset ✅\n",
            "Image sizes 416 train, 416 val\n",
            "Using 2 dataloader workers\n",
            "Logging results to \u001b[1mruns/train/total_yolov5s_results\u001b[0m\n",
            "Starting training for 5 epochs...\n",
            "\n",
            "     Epoch   gpu_mem       box       obj       cls    labels  img_size\n",
            "       0/4     1.64G   0.08723    0.0219   0.05577        62       416: 100% 627/627 [02:54<00:00,  3.60it/s]\n",
            "               Class     Images     Labels          P          R     mAP@.5 mAP@.5:.95: 100% 79/79 [00:17<00:00,  4.39it/s]\n",
            "                 all       2507       5995      0.903     0.0644      0.069     0.0255\n",
            "\n",
            "     Epoch   gpu_mem       box       obj       cls    labels  img_size\n",
            "       1/4     1.74G    0.0744   0.01962   0.04051        23       416: 100% 627/627 [02:45<00:00,  3.79it/s]\n",
            "               Class     Images     Labels          P          R     mAP@.5 mAP@.5:.95: 100% 79/79 [00:18<00:00,  4.38it/s]\n",
            "                 all       2507       5995      0.646      0.172      0.137     0.0576\n",
            "\n",
            "     Epoch   gpu_mem       box       obj       cls    labels  img_size\n",
            "       2/4     1.74G   0.07051   0.01835   0.03639        37       416: 100% 627/627 [02:43<00:00,  3.83it/s]\n",
            "               Class     Images     Labels          P          R     mAP@.5 mAP@.5:.95: 100% 79/79 [00:17<00:00,  4.59it/s]\n",
            "                 all       2507       5995      0.569      0.234      0.192     0.0914\n",
            "\n",
            "     Epoch   gpu_mem       box       obj       cls    labels  img_size\n",
            "       3/4     1.74G   0.06508   0.01787    0.0332        35       416: 100% 627/627 [02:43<00:00,  3.84it/s]\n",
            "               Class     Images     Labels          P          R     mAP@.5 mAP@.5:.95: 100% 79/79 [00:18<00:00,  4.37it/s]\n",
            "                 all       2507       5995      0.634      0.283      0.286      0.157\n",
            "\n",
            "     Epoch   gpu_mem       box       obj       cls    labels  img_size\n",
            "       4/4     1.74G   0.06309   0.01762   0.03098        32       416: 100% 627/627 [02:43<00:00,  3.83it/s]\n",
            "               Class     Images     Labels          P          R     mAP@.5 mAP@.5:.95: 100% 79/79 [00:16<00:00,  4.72it/s]\n",
            "                 all       2507       5995      0.514      0.349      0.321      0.179\n",
            "\n",
            "5 epochs completed in 0.257 hours.\n",
            "Optimizer stripped from runs/train/total_yolov5s_results/weights/last.pt, 14.4MB\n",
            "Optimizer stripped from runs/train/total_yolov5s_results/weights/best.pt, 14.4MB\n",
            "\n",
            "Validating runs/train/total_yolov5s_results/weights/best.pt...\n",
            "Fusing layers... \n",
            "Model Summary: 213 layers, 7047883 parameters, 0 gradients, 15.9 GFLOPs\n",
            "               Class     Images     Labels          P          R     mAP@.5 mAP@.5:.95: 100% 79/79 [00:21<00:00,  3.70it/s]\n",
            "                 all       2507       5995      0.514      0.349      0.321      0.179\n",
            "                 Axe       2507        910      0.438      0.818      0.756      0.409\n",
            "              Chisel       2507       1001      0.539       0.42      0.434      0.207\n",
            "                 Gun       2507        912      0.436      0.797      0.687       0.38\n",
            "                 HDD       2507        218      0.282      0.541      0.402      0.268\n",
            "           HandCuffs       2507        126      0.591      0.405      0.413      0.241\n",
            "               Knife       2507        526      0.353      0.335      0.274      0.131\n",
            "             Lighter       2507        545      0.541     0.0587     0.0764     0.0206\n",
            "               Plier       2507        131      0.412      0.183      0.224      0.119\n",
            "                 Saw       2507         66          1          0    0.00647     0.0034\n",
            "            Scissors       2507        184      0.354     0.0923     0.0926     0.0366\n",
            "         Screwdriver       2507         86          1          0     0.0157    0.00712\n",
            "          SmartPhone       2507        274       0.26       0.65      0.501      0.334\n",
            "             Spanner       2507        220      0.318      0.118      0.121     0.0538\n",
            "SupplymentaryBattery       2507        796      0.669      0.472      0.489      0.291\n",
            "Results saved to \u001b[1mruns/train/total_yolov5s_results\u001b[0m\n"
          ]
        }
      ]
    },
    {
      "cell_type": "code",
      "metadata": {
        "colab": {
          "base_uri": "https://localhost:8080/",
          "height": 616
        },
        "id": "3ub-Uh5Ot-rV",
        "outputId": "0852d8a4-7555-44f5-a8ff-d4fb4e708f99"
      },
      "source": [
        "from IPython.display import Image\n",
        "import os\n",
        "\n",
        "val_img_path = val_img_list[5]\n",
        "\n",
        "!python detect.py --weights /content/yolov5/runs/train/total_yolov5s_results/weights/best.pt --save-txt --save-conf --exist-ok --img 416 --conf 0.5 --source '{val_img_path}'\n",
        "\n",
        "Image(os.path.join('/content/yolov5/runs/detect/exp', os.path.basename(val_img_path)))"
      ],
      "execution_count": null,
      "outputs": [
        {
          "output_type": "stream",
          "name": "stdout",
          "text": [
            "\u001b[34m\u001b[1mdetect: \u001b[0mweights=['/content/yolov5/runs/train/total_yolov5s_results/weights/best.pt'], source=/content/dataset/train/images/H_8205-30-0000_09_160_png.rf.ace381d8552efa6bebeda07dbfd6934f.jpg, imgsz=[416, 416], conf_thres=0.5, iou_thres=0.45, max_det=1000, device=, view_img=False, save_txt=True, save_conf=True, save_crop=False, nosave=False, classes=None, agnostic_nms=False, augment=False, visualize=False, update=False, project=runs/detect, name=exp, exist_ok=True, line_thickness=3, hide_labels=False, hide_conf=False, half=False, dnn=False\n",
            "YOLOv5 🚀 v6.0-114-ga4207a2 torch 1.10.0+cu111 CUDA:0 (Tesla P100-PCIE-16GB, 16281MiB)\n",
            "\n",
            "Fusing layers... \n",
            "Model Summary: 213 layers, 7047883 parameters, 0 gradients, 15.9 GFLOPs\n",
            "image 1/1 /content/dataset/train/images/H_8205-30-0000_09_160_png.rf.ace381d8552efa6bebeda07dbfd6934f.jpg: 416x416 2 Chisels, 1 SupplymentaryBattery, Done. (0.010s)\n",
            "Speed: 0.3ms pre-process, 10.4ms inference, 1.7ms NMS per image at shape (1, 3, 416, 416)\n",
            "Results saved to \u001b[1mruns/detect/exp\u001b[0m\n",
            "1 labels saved to runs/detect/exp/labels\n"
          ]
        },
        {
          "output_type": "execute_result",
          "data": {
            "image/jpeg": "[encoded data removed]",
            "text/plain": [
              "<IPython.core.display.Image object>"
            ]
          },
          "metadata": {},
          "execution_count": 35
        }
      ]
    },
    {
      "cell_type": "code",
      "metadata": {
        "id": "Nrng9EqEqEm_"
      },
      "source": [
        "#for i in range(100):\n",
        "#    val_img_path = val_img_list[i]\n",
        "#    !python detect.py --weights /content/yolov5/runs/train/total_yolov5s_results/weights/best.pt --save-txt --save-conf --exist-ok --img 416 --conf 0.5 --source '{val_img_path}'"
      ],
      "execution_count": null,
      "outputs": []
    },
    {
      "cell_type": "code",
      "metadata": {
        "id": "TmROXTaDwwvt"
      },
      "source": [
        "#!cp -r /content/yolov5/runs /content/drive/MyDrive"
      ],
      "execution_count": null,
      "outputs": []
    },
    {
      "cell_type": "code",
      "metadata": {
        "id": "9FZVAmtzwkqq"
      },
      "source": [
        ""
      ],
      "execution_count": null,
      "outputs": []
    }
  ]
}