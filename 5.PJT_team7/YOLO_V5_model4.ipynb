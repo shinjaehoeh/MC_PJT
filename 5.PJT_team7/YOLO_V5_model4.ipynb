{
  "nbformat": 4,
  "nbformat_minor": 0,
  "metadata": {
    "colab": {
      "name": "YOLO_V5_model4.ipynb",
      "provenance": [],
      "collapsed_sections": []
    },
    "kernelspec": {
      "name": "python3",
      "display_name": "Python 3"
    },
    "language_info": {
      "name": "python"
    },
    "accelerator": "GPU"
  },
  "cells": [
    {
      "cell_type": "code",
      "metadata": {
        "id": "vKJZd5IC1EoH"
      },
      "source": [
        "from google.colab import drive\n",
        "drive.mount('/content/drive')"
      ],
      "execution_count": null,
      "outputs": []
    },
    {
      "cell_type": "code",
      "metadata": {
        "id": "fWE_hpy01p4Y"
      },
      "source": [
        "!mkdir /content/dataset\n",
        "%cd /content/dataset\n",
        "!curl -L \"https://app.roboflow.com/ds/Yaz83XJhk0?key=EJqKtwTpyv\" > roboflow.zip; unzip roboflow.zip; rm roboflow.zip\n",
        "\n",
        "%cd /content/\n",
        "!git clone https://github.com/ultralytics/yolov5.git\n",
        "\n",
        "%cd /content/yolov5/\n",
        "!pip install -r requirements.txt"
      ],
      "execution_count": null,
      "outputs": []
    },
    {
      "cell_type": "code",
      "metadata": {
        "id": "cauFl5cp1r8T"
      },
      "source": [
        "from glob import glob\n",
        "from sklearn.model_selection import train_test_split\n",
        "\n",
        "img_list = glob('/content/dataset/train/images/*.jpg')\n",
        "print(len(img_list))\n",
        "\n",
        "train_img_list, val_img_list = train_test_split(img_list, test_size=0.2, random_state=2021)\n",
        "print(len(train_img_list), len(val_img_list))"
      ],
      "execution_count": null,
      "outputs": []
    },
    {
      "cell_type": "code",
      "metadata": {
        "id": "yEO34F6I1u_Z"
      },
      "source": [
        "with open('/content/dataset/train.txt', 'w') as f:\n",
        "    f.write('\\n'.join(train_img_list) + '\\n')\n",
        "\n",
        "with open('/content/dataset/val.txt', 'w') as f:\n",
        "    f.write('\\n'.join(val_img_list) + '\\n')"
      ],
      "execution_count": null,
      "outputs": []
    },
    {
      "cell_type": "code",
      "metadata": {
        "id": "Xq_O_k_O1xDr"
      },
      "source": [
        "import yaml\n",
        "\n",
        "with open('/content/dataset/data.yaml', 'r') as f:\n",
        "    data = yaml.safe_load(f)\n",
        "\n",
        "print(type(data), data)\n",
        "\n",
        "data['train'] = '/content/dataset/train.txt'\n",
        "data['val'] = '/content/dataset/val.txt'\n",
        "\n",
        "with open('/content/dataset/data.yaml', 'w') as f:\n",
        "    yaml.dump(data, f)\n",
        "\n",
        "print(type(data), data)"
      ],
      "execution_count": null,
      "outputs": []
    },
    {
      "cell_type": "code",
      "metadata": {
        "id": "75cwxzSl10rp"
      },
      "source": [
        "%cd /content/yolov5/\n",
        "\n",
        "!python train.py --name sig_50_results \\\n",
        "--img 416 --batch 16 --cfg ./models/yolov5l.yaml --weights yolov5l.pt \\\n",
        "--epochs 50 --data /content/dataset/data.yaml\n",
        "\n",
        "!cp -r /content/yolov5/runs/train/sig_50_results /content/drive/MyDrive/programming/results/YOLO_V5"
      ],
      "execution_count": null,
      "outputs": []
    },
    {
      "cell_type": "code",
      "metadata": {
        "id": "0VupZegU2FCT"
      },
      "source": [
        "from IPython.display import Image\n",
        "import os\n",
        "\n",
        "val_img_path = val_img_list[0]\n",
        "\n",
        "!python detect.py --weights /content/yolov5/runs/train/sig_50_results/weights/best.pt --save-txt --save-conf --exist-ok --img 416 --conf 0.5 --source '{val_img_path}'\n",
        "\n",
        "Image(os.path.join('/content/yolov5/runs/detect/exp', os.path.basename(val_img_path)))"
      ],
      "execution_count": null,
      "outputs": []
    },
    {
      "cell_type": "code",
      "metadata": {
        "id": "beQhxySr2Scb"
      },
      "source": [
        "val_img_path = val_img_list[1]\n",
        "\n",
        "!python detect.py --weights /content/yolov5/runs/train/sig_50_results/weights/best.pt --save-txt --save-conf --exist-ok --img 416 --conf 0.5 --source '{val_img_path}'\n",
        "\n",
        "Image(os.path.join('/content/yolov5/runs/detect/exp', os.path.basename(val_img_path)))"
      ],
      "execution_count": null,
      "outputs": []
    }
  ]
}