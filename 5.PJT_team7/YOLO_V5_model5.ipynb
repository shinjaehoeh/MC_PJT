{
  "nbformat": 4,
  "nbformat_minor": 0,
  "metadata": {
    "colab": {
      "name": "YOLO_V5_model5.ipynb",
      "provenance": [],
      "collapsed_sections": []
    },
    "kernelspec": {
      "name": "python3",
      "display_name": "Python 3"
    },
    "language_info": {
      "name": "python"
    },
    "accelerator": "GPU"
  },
  "cells": [
    {
      "cell_type": "code",
      "metadata": {
        "id": "BNktbj8mulVD"
      },
      "source": [
        "from google.colab import drive\n",
        "drive.mount('/content/drive')"
      ],
      "execution_count": null,
      "outputs": []
    },
    {
      "cell_type": "code",
      "metadata": {
        "id": "-RHCbBO8qmCo"
      },
      "source": [
        "!mkdir /content/dataset\n",
        "%cd /content/dataset\n",
        "!curl -L \"https://app.roboflow.com/ds/Yaz83XJhk0?key=EJqKtwTpyv\" > roboflow.zip; unzip roboflow.zip; rm roboflow.zip\n",
        "\n",
        "%cd /content/\n",
        "!git clone https://github.com/ultralytics/yolov5.git\n",
        "\n",
        "%cd /content/yolov5/\n",
        "!pip install -r requirements.txt"
      ],
      "execution_count": null,
      "outputs": []
    },
    {
      "cell_type": "code",
      "metadata": {
        "id": "YWEqJGNqqrFI"
      },
      "source": [
        "from glob import glob\n",
        "from sklearn.model_selection import train_test_split\n",
        "\n",
        "img_list = glob('/content/dataset/train/images/*.jpg')\n",
        "print(len(img_list))\n",
        "\n",
        "train_img_list, val_img_list = train_test_split(img_list, test_size=0.2, random_state=2021)\n",
        "print(len(train_img_list), len(val_img_list))"
      ],
      "execution_count": null,
      "outputs": []
    },
    {
      "cell_type": "code",
      "metadata": {
        "id": "SuwOSGx7qrt-"
      },
      "source": [
        "with open('/content/dataset/train.txt', 'w') as f:\n",
        "    f.write('\\n'.join(train_img_list) + '\\n')\n",
        "\n",
        "with open('/content/dataset/val.txt', 'w') as f:\n",
        "    f.write('\\n'.join(val_img_list) + '\\n')"
      ],
      "execution_count": null,
      "outputs": []
    },
    {
      "cell_type": "code",
      "metadata": {
        "id": "njAysEMYqtTs"
      },
      "source": [
        "import yaml\n",
        "\n",
        "with open('/content/dataset/data.yaml', 'r') as f:\n",
        "    data = yaml.safe_load(f)\n",
        "\n",
        "print(type(data), data)\n",
        "\n",
        "data['train'] = '/content/dataset/train.txt'\n",
        "data['val'] = '/content/dataset/val.txt'\n",
        "\n",
        "with open('/content/dataset/data.yaml', 'w') as f:\n",
        "    yaml.dump(data, f)\n",
        "\n",
        "print(type(data), data)"
      ],
      "execution_count": null,
      "outputs": []
    },
    {
      "cell_type": "code",
      "metadata": {
        "id": "VpCbeLBdqvdb"
      },
      "source": [
        "%cd /content/yolov5/\n",
        "\n",
        "!python train.py --name sig_1st_results \\\n",
        "--img 416 --batch 16 --cfg ./models/yolov5l.yaml --weights yolov5l.pt \\\n",
        "--epochs 30 --data /content/dataset/data.yaml\n",
        "\n",
        "!cp -r /content/yolov5/runs/train/sig_1st_results /content/drive/MyDrive/programming/results/YOLO_V5"
      ],
      "execution_count": null,
      "outputs": []
    },
    {
      "cell_type": "code",
      "metadata": {
        "id": "a9bURIccrH14"
      },
      "source": [
        "!cp /content/drive/MyDrive/programming/results/YOLO_V5/sig_1st_results/weights/best.pt /content/yolov5/1st.pt\n",
        "\n",
        "!python train.py --name sig_2nd_results \\\n",
        "--img 416 --batch 16 --cfg ./models/yolov5l.yaml --weights 1st.pt \\\n",
        "--epochs 30 --data /content/dataset/data.yaml\n",
        "\n",
        "!cp -r /content/yolov5/runs/train/sig_2nd_results /content/drive/MyDrive/programming/results/YOLO_V5"
      ],
      "execution_count": null,
      "outputs": []
    },
    {
      "cell_type": "code",
      "metadata": {
        "id": "LEmFOpIurHRc"
      },
      "source": [
        "!cp /content/drive/MyDrive/programming/results/YOLO_V5/sig_2nd_results/weights/best.pt /content/yolov5/2nd.pt\n",
        "\n",
        "!python train.py --name sig_3rd_results \\\n",
        "--img 416 --batch 16 --cfg ./models/yolov5l.yaml --weights 2nd.pt \\\n",
        "--epochs 30 --data /content/dataset/data.yaml\n",
        "\n",
        "!cp -r /content/yolov5/runs/train/sig_3rd_results /content/drive/MyDrive/programming/results/YOLO_V5"
      ],
      "execution_count": null,
      "outputs": []
    }
  ]
}