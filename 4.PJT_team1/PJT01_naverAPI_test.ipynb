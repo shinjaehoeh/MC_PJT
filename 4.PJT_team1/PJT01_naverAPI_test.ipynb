{
  "cells": [
    {
      "cell_type": "code",
      "execution_count": 1,
      "metadata": {
        "id": "pTnnolVCcAGk"
      },
      "outputs": [],
      "source": [
        "import urllib.request"
      ]
    },
    {
      "cell_type": "code",
      "execution_count": 2,
      "metadata": {
        "id": "iX_77K0WcoEy"
      },
      "outputs": [],
      "source": [
        "def search_map(search_text):\n",
        "    client_id = '-' #클라이언트 ID값\n",
        "    client_secret = '-' #클라이언트 Secret값\n",
        "    encText = urllib.parse.quote(search_text) \n",
        "    url = 'https://naveropenapi.apigw.ntruss.com/map-geocode/v2/geocode?query='+encText\n",
        "    request = urllib.request.Request(url)\n",
        "    request.add_header('X-NCP-APIGW-API-KEY-ID', client_id)\n",
        "    request.add_header('X-NCP-APIGW-API-KEY', client_secret)\n",
        "    response = urllib.request.urlopen(request)\n",
        "    rescode = response.getcode()\n",
        "    if(rescode==200):\n",
        "        response_body = response.read()\n",
        "        return response_body.decode('utf-8')\n",
        "    else:\n",
        "        print(\"Error Code:\" + rescode)"
      ]
    },
    {
      "cell_type": "code",
      "execution_count": 3,
      "metadata": {
        "colab": {
          "base_uri": "https://localhost:8080/",
          "height": 164
        },
        "id": "v24yw4vkdQ5s",
        "outputId": "a12bbce7-cd9e-4f05-dbb4-3013505a36f5"
      },
      "outputs": [
        {
          "data": {
            "application/vnd.google.colaboratory.intrinsic+json": {
              "type": "string"
            },
            "text/plain": [
              "'{\"status\":\"OK\",\"meta\":{\"totalCount\":1,\"page\":1,\"count\":1},\"addresses\":[{\"roadAddress\":\"서울특별시 중구 세종대로 110 서울특별시청\",\"jibunAddress\":\"서울특별시 중구 태평로1가 31 서울특별시청\",\"englishAddress\":\"110, Sejong-daero, Jung-gu, Seoul, Republic of Korea\",\"addressElements\":[{\"types\":[\"SIDO\"],\"longName\":\"서울특별시\",\"shortName\":\"서울특별시\",\"code\":\"\"},{\"types\":[\"SIGUGUN\"],\"longName\":\"중구\",\"shortName\":\"중구\",\"code\":\"\"},{\"types\":[\"DONGMYUN\"],\"longName\":\"태평로1가\",\"shortName\":\"태평로1가\",\"code\":\"\"},{\"types\":[\"RI\"],\"longName\":\"\",\"shortName\":\"\",\"code\":\"\"},{\"types\":[\"ROAD_NAME\"],\"longName\":\"세종대로\",\"shortName\":\"세종대로\",\"code\":\"\"},{\"types\":[\"BUILDING_NUMBER\"],\"longName\":\"110\",\"shortName\":\"110\",\"code\":\"\"},{\"types\":[\"BUILDING_NAME\"],\"longName\":\"서울특별시청\",\"shortName\":\"서울특별시청\",\"code\":\"\"},{\"types\":[\"LAND_NUMBER\"],\"longName\":\"31\",\"shortName\":\"31\",\"code\":\"\"},{\"types\":[\"POSTAL_CODE\"],\"longName\":\"04524\",\"shortName\":\"04524\",\"code\":\"\"}],\"x\":\"126.9783882\",\"y\":\"37.5666103\",\"distance\":0.0}],\"errorMessage\":\"\"}'"
            ]
          },
          "execution_count": 3,
          "metadata": {},
          "output_type": "execute_result"
        }
      ],
      "source": [
        "user = search_map(\"서울특별시 중구 세종대로 110\")\n",
        "user"
      ]
    },
    {
      "cell_type": "code",
      "execution_count": 3,
      "metadata": {
        "id": "iemL0bzlhtsR"
      },
      "outputs": [],
      "source": []
    }
  ],
  "metadata": {
    "colab": {
      "name": "PJT01_naverAPI_test.ipynb",
      "provenance": []
    },
    "kernelspec": {
      "display_name": "Python 3",
      "name": "python3"
    },
    "language_info": {
      "name": "python"
    }
  },
  "nbformat": 4,
  "nbformat_minor": 0
}
