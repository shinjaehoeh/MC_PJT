{
  "nbformat": 4,
  "nbformat_minor": 0,
  "metadata": {
    "colab": {
      "name": "PJT02_naverAPI.ipynb",
      "provenance": []
    },
    "kernelspec": {
      "name": "python3",
      "display_name": "Python 3"
    },
    "language_info": {
      "name": "python"
    }
  },
  "cells": [
    {
      "cell_type": "code",
      "metadata": {
        "colab": {
          "base_uri": "https://localhost:8080/"
        },
        "id": "Vdb_Q1wqXX4w",
        "outputId": "43044686-c198-484b-9ce8-28d4e224ec4c"
      },
      "source": [
        "from google.colab import drive\n",
        "drive.mount('/content/drive', force_remount=True)"
      ],
      "execution_count": 1,
      "outputs": [
        {
          "output_type": "stream",
          "name": "stdout",
          "text": [
            "Mounted at /content/drive\n"
          ]
        }
      ]
    },
    {
      "cell_type": "code",
      "metadata": {
        "id": "SgnFbcJ1aGlt"
      },
      "source": [
        "import pandas as pd\n",
        "idpw_link = '/content/drive/MyDrive/programming/data/must_ignore.xlsx'\n",
        "idpw = pd.read_excel(idpw_link, sheet_name='PJTJ4U')"
      ],
      "execution_count": 2,
      "outputs": []
    },
    {
      "cell_type": "code",
      "metadata": {
        "colab": {
          "base_uri": "https://localhost:8080/"
        },
        "id": "UzFtsg3xbi7B",
        "outputId": "3963f46d-dd0a-4738-88d0-765f5161b74b"
      },
      "source": [
        "len(idpw.iloc[2,3]), len(idpw.iloc[5,3])"
      ],
      "execution_count": 3,
      "outputs": [
        {
          "output_type": "execute_result",
          "data": {
            "text/plain": [
              "(10, 40)"
            ]
          },
          "metadata": {},
          "execution_count": 3
        }
      ]
    },
    {
      "cell_type": "code",
      "metadata": {
        "id": "G3FMZ_Byawvi"
      },
      "source": [
        "import urllib.request\n",
        "import json\n",
        "\n",
        "client_id, client_secret = idpw.iloc[2,3], idpw.iloc[5,3]\n",
        "\n",
        "def search_map(search_text):\n",
        "    encText = urllib.parse.quote(search_text) \n",
        "    url = 'https://naveropenapi.apigw.ntruss.com/map-geocode/v2/geocode?query='+encText\n",
        "\n",
        "    request = urllib.request.Request(url)\n",
        "    request.add_header('X-NCP-APIGW-API-KEY-ID', client_id)\n",
        "    request.add_header('X-NCP-APIGW-API-KEY', client_secret)\n",
        "\n",
        "    response = urllib.request.urlopen(request)\n",
        "    rescode = response.getcode()\n",
        "\n",
        "    if(rescode==200):\n",
        "        response_body = response.read().decode('utf-8')\n",
        "        response_body = json.loads(response_body)\n",
        "        return response_body\n",
        "    else:\n",
        "        print(\"Error Code:\" + rescode)"
      ],
      "execution_count": 4,
      "outputs": []
    },
    {
      "cell_type": "code",
      "metadata": {
        "colab": {
          "base_uri": "https://localhost:8080/"
        },
        "id": "oPVs2vpjdaaX",
        "outputId": "53b6671c-dd0d-426e-82a2-26b507af6a8f"
      },
      "source": [
        "user = search_map(\"서울 중구 세종대로 110\")\n",
        "user"
      ],
      "execution_count": 5,
      "outputs": [
        {
          "output_type": "execute_result",
          "data": {
            "text/plain": [
              "{'addresses': [{'addressElements': [{'code': '',\n",
              "     'longName': '서울특별시',\n",
              "     'shortName': '서울특별시',\n",
              "     'types': ['SIDO']},\n",
              "    {'code': '', 'longName': '중구', 'shortName': '중구', 'types': ['SIGUGUN']},\n",
              "    {'code': '',\n",
              "     'longName': '태평로1가',\n",
              "     'shortName': '태평로1가',\n",
              "     'types': ['DONGMYUN']},\n",
              "    {'code': '', 'longName': '', 'shortName': '', 'types': ['RI']},\n",
              "    {'code': '',\n",
              "     'longName': '세종대로',\n",
              "     'shortName': '세종대로',\n",
              "     'types': ['ROAD_NAME']},\n",
              "    {'code': '',\n",
              "     'longName': '110',\n",
              "     'shortName': '110',\n",
              "     'types': ['BUILDING_NUMBER']},\n",
              "    {'code': '',\n",
              "     'longName': '서울특별시청',\n",
              "     'shortName': '서울특별시청',\n",
              "     'types': ['BUILDING_NAME']},\n",
              "    {'code': '',\n",
              "     'longName': '31',\n",
              "     'shortName': '31',\n",
              "     'types': ['LAND_NUMBER']},\n",
              "    {'code': '',\n",
              "     'longName': '04524',\n",
              "     'shortName': '04524',\n",
              "     'types': ['POSTAL_CODE']}],\n",
              "   'distance': 0.0,\n",
              "   'englishAddress': '110, Sejong-daero, Jung-gu, Seoul, Republic of Korea',\n",
              "   'jibunAddress': '서울특별시 중구 태평로1가 31 서울특별시청',\n",
              "   'roadAddress': '서울특별시 중구 세종대로 110 서울특별시청',\n",
              "   'x': '126.9783882',\n",
              "   'y': '37.5666103'}],\n",
              " 'errorMessage': '',\n",
              " 'meta': {'count': 1, 'page': 1, 'totalCount': 1},\n",
              " 'status': 'OK'}"
            ]
          },
          "metadata": {},
          "execution_count": 5
        }
      ]
    },
    {
      "cell_type": "code",
      "metadata": {
        "colab": {
          "base_uri": "https://localhost:8080/",
          "height": 35
        },
        "id": "5zpDZs_jkMrJ",
        "outputId": "f28fa128-ee88-48b2-ea80-bb5fac4adb10"
      },
      "source": [
        "user['addresses'][0]['addressElements'][8]['longName']"
      ],
      "execution_count": 6,
      "outputs": [
        {
          "output_type": "execute_result",
          "data": {
            "application/vnd.google.colaboratory.intrinsic+json": {
              "type": "string"
            },
            "text/plain": [
              "'04524'"
            ]
          },
          "metadata": {},
          "execution_count": 6
        }
      ]
    },
    {
      "cell_type": "code",
      "metadata": {
        "id": "c-fpuHTbq-vJ"
      },
      "source": [
        ""
      ],
      "execution_count": null,
      "outputs": []
    }
  ]
}