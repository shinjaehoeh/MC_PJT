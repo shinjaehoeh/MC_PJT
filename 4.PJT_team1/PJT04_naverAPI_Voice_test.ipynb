{
  "nbformat": 4,
  "nbformat_minor": 0,
  "metadata": {
    "colab": {
      "name": "PJT04_naverAPI_Voice_test.ipynb",
      "provenance": []
    },
    "kernelspec": {
      "name": "python3",
      "display_name": "Python 3"
    },
    "language_info": {
      "name": "python"
    }
  },
  "cells": [
    {
      "cell_type": "markdown",
      "metadata": {
        "id": "jCH2oiMJO1o_"
      },
      "source": [
        "# 참조 링크\n",
        "\n",
        "코드 예시 : https://api.ncloud-docs.com/docs/ai-naver-clovavoice-ttspremium\n",
        "\n",
        "미리 듣기 : https://www.ncloud.com/product/aiService/clovaVoice\n",
        "\n",
        "백업 자료 : https://m.blog.naver.com/PostView.nhn?isHttpsRedirect=true&blogId=n_cloudplatform&logNo=222097441109"
      ]
    },
    {
      "cell_type": "code",
      "metadata": {
        "colab": {
          "base_uri": "https://localhost:8080/"
        },
        "id": "QbN6sGY-mA-x",
        "outputId": "afe7c3ec-12fe-4c47-bd25-2aebe4f33954"
      },
      "source": [
        "'''목소리 종류(2021.10.25)\n",
        "dara : 아라 : 한국어, 여성 음색\n",
        "nara_call : 아라(상담원) : 한국어, 여성 음색\n",
        "nminyoung : 민영 : 한국어, 여성 음색\n",
        "nyejin : 예진 : 한국어, 여성 음색\n",
        "mijin : 미진 : 한국어, 여성 음색\n",
        "jinho : 진호 : 한국어, 남성 음색\n",
        "clara : 클라라 : 영어, 여성 음색\n",
        "matt : 매트 : 영어, 남성 음색\n",
        "shinji : 신지: 일본어, 남성 음색\n",
        "meimei : 메이메이 : 중국어, 여성 음색\n",
        "liangliang : 량량 : 중국어, 남성 음색\n",
        "jose : 호세 : 스페인어, 남성 음색\n",
        "carmen : 카르멘 : 스페인어, 여성 음색\n",
        "nminsang : 민상 : 한국어, 남성 음색\n",
        "nsinu : 신우 : 한국어, 남성 음색\n",
        "nhajun : 하준 : 한국어, 아동 음색 (남)\n",
        "ndain : 다인 : 한국어, 아동음색 (여)\n",
        "njiyun : 지윤 : 한국어, 여성 음색\n",
        "nsujin : 수진 : 한국어, 여성 음색\n",
        "njinho : 진호 : 한국어, 남성 음색\n",
        "njihun : 지훈 : 한국어, 남성 음색\n",
        "njooahn : 주안 : 한국어, 남성 음색\n",
        "nseonghoon : 성훈 : 한국어, 남성 음색\n",
        "njihwan : 지환 : 한국어, 남성 음색\n",
        "nsiyoon : 시윤 : 한국어, 남성 음색\n",
        "ngaram : 가람 : 한국어, 남성 음색\n",
        "ntomoko : 토모코 : 일본어, 여성 음색\n",
        "nnaomi : 나오미 : 일본어, 여성 음색\n",
        "dnaomi_joyful : 나오미(기쁨) : 일본어, 여성 음색\n",
        "dnaomi_formal : 나오미(뉴스) : 일본어, 여성 음색\n",
        "driko : 리코 : 일본어, 여성 음색\n",
        "deriko : 에리코 : 일본어, 여성 음색\n",
        "nsayuri : 사유리 : 일본어, 여성 음색\n",
        "ngoeun : 고은 : 한국어, 여성 음색\n",
        "neunyoung : 은영 : 한국어, 여성 음색\n",
        "nsunkyung : 선경 : 한국어, 여성 음색\n",
        "nyujin : 유진 : 한국어, 여성 음색\n",
        "ntaejin : 태진 : 한국어, 남성 음색\n",
        "nyoungil : 영일 : 한국어, 남성 음색\n",
        "nseungpyo : 승표 : 한국어, 남성 음색\n",
        "nwontak : 원탁 : 한국어, 남성 음색\n",
        "dara_ang : 아라(화남) :  한국어, 여성 음색\n",
        "nsunhee : 선희 :  한국어, 여성 음색\n",
        "nminseo : 민서 :  한국어, 여성 음색\n",
        "njiwon : 지원 :  한국어, 여성 음색\n",
        "nbora : 보라 :  한국어, 여성 음색\n",
        "njonghyun : 종현 :  한국어, 남성 음색\n",
        "njoonyoung : 준영 :  한국어, 남성 음색\n",
        "njaewook : 재욱 :  한국어, 남성 음색\n",
        "danna : 안나 : 영어,여성 음색\n",
        "djoey : 조이 : 영어,여성 음색\n",
        "dhajime : 하지메 : 일본어,남성 음색\n",
        "ddaiki : 다이키 : 일본어,남성 음색\n",
        "dayumu : 아유무 : 일본어,남성 음색\n",
        "dmio : 미오 : 일본어,여성 음색\n",
        "chiahua : 차화 : 대만어,여성 음색\n",
        "kuanlin : 관린 : 대만어,남성 음색'''\n",
        "print()"
      ],
      "execution_count": 1,
      "outputs": [
        {
          "output_type": "stream",
          "name": "stdout",
          "text": [
            "\n"
          ]
        }
      ]
    },
    {
      "cell_type": "markdown",
      "metadata": {
        "id": "sxYMfpnXmIPf"
      },
      "source": [
        "# 코드"
      ]
    },
    {
      "cell_type": "code",
      "metadata": {
        "colab": {
          "base_uri": "https://localhost:8080/"
        },
        "id": "6kw5g8d2Ih6E",
        "outputId": "60f1a0a7-67ff-4c60-9e6f-62b509bfe91e"
      },
      "source": [
        "from google.colab import drive\n",
        "drive.mount('/content/drive', force_remount=True)"
      ],
      "execution_count": 2,
      "outputs": [
        {
          "output_type": "stream",
          "name": "stdout",
          "text": [
            "Mounted at /content/drive\n"
          ]
        }
      ]
    },
    {
      "cell_type": "code",
      "metadata": {
        "id": "nuUy-Unr2Tm9"
      },
      "source": [
        "import pandas as pd\n",
        "idpw_link = '/content/drive/MyDrive/programming/data/must_ignore.xlsx'\n",
        "idpw = pd.read_excel(idpw_link, sheet_name='PJTJ4U')"
      ],
      "execution_count": 3,
      "outputs": []
    },
    {
      "cell_type": "code",
      "metadata": {
        "id": "z4l411sNIrKp"
      },
      "source": [
        "import urllib.request\n",
        "from datetime import datetime\n",
        "\n",
        "client_id, client_secret = idpw.iloc[3,3], idpw.iloc[7,3]\n",
        "\n",
        "def naver_tts(voice_text,speaker='nara_call'):\n",
        "    encText = urllib.parse.quote(voice_text)\n",
        "    data = f'speaker={speaker}&volume=0&speed=0&pitch=0&format=mp3&text={encText}'\n",
        "    url = 'https://naveropenapi.apigw.ntruss.com/tts-premium/v1/tts'\n",
        "\n",
        "    request = urllib.request.Request(url)\n",
        "    request.add_header('X-NCP-APIGW-API-KEY-ID', client_id)\n",
        "    request.add_header('X-NCP-APIGW-API-KEY', client_secret)\n",
        "\n",
        "    response = urllib.request.urlopen(request, data=data.encode('utf-8'))\n",
        "    rescode = response.getcode()\n",
        "\n",
        "    if(rescode==200):\n",
        "        response_body = response.read()\n",
        "        now = datetime.now()\n",
        "        with open(f'{now.year}.{now.month:02d}.{now.day:02d}_{(now.hour+9)%24:02d}.{now.minute:02d}.{now.second:02d}_{speaker}.mp3', 'wb') as f:\n",
        "            f.write(response_body)\n",
        "        print(f'TTS_{speaker}.mp3 저장')\n",
        "    else:\n",
        "        print(\"Error Code:\" + rescode)"
      ],
      "execution_count": 4,
      "outputs": []
    },
    {
      "cell_type": "code",
      "metadata": {
        "colab": {
          "base_uri": "https://localhost:8080/"
        },
        "id": "XBS2NPMtV-iA",
        "outputId": "b275403f-e4cd-43c4-d70b-419bad87d5b2"
      },
      "source": [
        "naver_tts('아라입니다')"
      ],
      "execution_count": 5,
      "outputs": [
        {
          "output_type": "stream",
          "name": "stdout",
          "text": [
            "TTS_nara_call.mp3 저장\n"
          ]
        }
      ]
    },
    {
      "cell_type": "code",
      "metadata": {
        "colab": {
          "base_uri": "https://localhost:8080/"
        },
        "id": "WG2eY-Dbf2ll",
        "outputId": "bc744361-74b1-414d-b0ee-72a9401628cd"
      },
      "source": [
        "naver_tts('민서입니다','nminseo')"
      ],
      "execution_count": 6,
      "outputs": [
        {
          "output_type": "stream",
          "name": "stdout",
          "text": [
            "TTS_nminseo.mp3 저장\n"
          ]
        }
      ]
    },
    {
      "cell_type": "code",
      "metadata": {
        "id": "2o0VatGxzIwU"
      },
      "source": [
        ""
      ],
      "execution_count": 6,
      "outputs": []
    }
  ]
}