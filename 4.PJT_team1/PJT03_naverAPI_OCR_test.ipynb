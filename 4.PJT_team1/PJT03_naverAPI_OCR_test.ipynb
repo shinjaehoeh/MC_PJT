{
  "nbformat": 4,
  "nbformat_minor": 0,
  "metadata": {
    "colab": {
      "name": "PJT03_naverAPI_OCR_test.ipynb",
      "provenance": []
    },
    "kernelspec": {
      "name": "python3",
      "display_name": "Python 3"
    },
    "language_info": {
      "name": "python"
    }
  },
  "cells": [
    {
      "cell_type": "code",
      "metadata": {
        "colab": {
          "base_uri": "https://localhost:8080/"
        },
        "id": "YP2cHai23w-H",
        "outputId": "dc8181ec-a508-4220-8108-627bcb0d32f6"
      },
      "source": [
        "from google.colab import drive\n",
        "drive.mount('/content/drive', force_remount=True)"
      ],
      "execution_count": null,
      "outputs": [
        {
          "output_type": "stream",
          "name": "stdout",
          "text": [
            "Mounted at /content/drive\n"
          ]
        }
      ]
    },
    {
      "cell_type": "code",
      "metadata": {
        "id": "PVaClwyYoGUn"
      },
      "source": [
        "import pandas as pd\n",
        "idpw_link = '/content/drive/MyDrive/programming/data/must_ignore.xlsx'\n",
        "idpw = pd.read_excel(idpw_link, sheet_name='PJTJ4U')\n",
        "import urllib.request\n",
        "import json\n",
        "\n",
        "client_id, client_secret = idpw.iloc[3,3], idpw.iloc[7,3]\n",
        "\n",
        "def search_map(search_text):\n",
        "    encText = urllib.parse.quote(search_text) \n",
        "    url = 'https://naveropenapi.apigw.ntruss.com/map-geocode/v2/geocode?query='+encText\n",
        "\n",
        "    request = urllib.request.Request(url)\n",
        "    request.add_header('X-NCP-APIGW-API-KEY-ID', client_id)\n",
        "    request.add_header('X-NCP-APIGW-API-KEY', client_secret)\n",
        "\n",
        "    response = urllib.request.urlopen(request)\n",
        "    rescode = response.getcode()\n",
        "\n",
        "    if(rescode==200):\n",
        "        response_body = response.read().decode('utf-8')\n",
        "        response_body = json.loads(response_body)\n",
        "        return response_body\n",
        "    else:\n",
        "        print(\"Error Code:\" + rescode)"
      ],
      "execution_count": null,
      "outputs": []
    },
    {
      "cell_type": "code",
      "metadata": {
        "colab": {
          "base_uri": "https://localhost:8080/"
        },
        "id": "jre7X3xE3Hs1",
        "outputId": "43457a83-07be-49d0-b8ab-39dd0387e9d2"
      },
      "source": [
        "user = search_map(\"서울 중구 세종대로 110\")#,\"&coordinate=124.1054328,37.3595963\")\n",
        "user"
      ],
      "execution_count": null,
      "outputs": [
        {
          "output_type": "execute_result",
          "data": {
            "text/plain": [
              "{'addresses': [{'addressElements': [{'code': '',\n",
              "     'longName': '서울특별시',\n",
              "     'shortName': '서울특별시',\n",
              "     'types': ['SIDO']},\n",
              "    {'code': '', 'longName': '중구', 'shortName': '중구', 'types': ['SIGUGUN']},\n",
              "    {'code': '',\n",
              "     'longName': '태평로1가',\n",
              "     'shortName': '태평로1가',\n",
              "     'types': ['DONGMYUN']},\n",
              "    {'code': '', 'longName': '', 'shortName': '', 'types': ['RI']},\n",
              "    {'code': '',\n",
              "     'longName': '세종대로',\n",
              "     'shortName': '세종대로',\n",
              "     'types': ['ROAD_NAME']},\n",
              "    {'code': '',\n",
              "     'longName': '110',\n",
              "     'shortName': '110',\n",
              "     'types': ['BUILDING_NUMBER']},\n",
              "    {'code': '',\n",
              "     'longName': '서울특별시청',\n",
              "     'shortName': '서울특별시청',\n",
              "     'types': ['BUILDING_NAME']},\n",
              "    {'code': '',\n",
              "     'longName': '31',\n",
              "     'shortName': '31',\n",
              "     'types': ['LAND_NUMBER']},\n",
              "    {'code': '',\n",
              "     'longName': '04524',\n",
              "     'shortName': '04524',\n",
              "     'types': ['POSTAL_CODE']}],\n",
              "   'distance': 0.0,\n",
              "   'englishAddress': '110, Sejong-daero, Jung-gu, Seoul, Republic of Korea',\n",
              "   'jibunAddress': '서울특별시 중구 태평로1가 31 서울특별시청',\n",
              "   'roadAddress': '서울특별시 중구 세종대로 110 서울특별시청',\n",
              "   'x': '126.9783882',\n",
              "   'y': '37.5666103'}],\n",
              " 'errorMessage': '',\n",
              " 'meta': {'count': 1, 'page': 1, 'totalCount': 1},\n",
              " 'status': 'OK'}"
            ]
          },
          "metadata": {},
          "execution_count": 3
        }
      ]
    },
    {
      "cell_type": "code",
      "metadata": {
        "id": "DiStQwvm3lgN"
      },
      "source": [
        "def pri(a):#, *b, **c):\n",
        "    print(a)\n",
        "  #  for i in len(b):\n",
        "  #      print(b)\n",
        "   # for i in len(c):\n",
        "   #     print(c)    "
      ],
      "execution_count": null,
      "outputs": []
    },
    {
      "cell_type": "code",
      "metadata": {
        "colab": {
          "base_uri": "https://localhost:8080/"
        },
        "id": "iSHxU5XHJJEm",
        "outputId": "32b58b1a-c981-4e52-a4ed-25f93fe73164"
      },
      "source": [
        "a=1\n",
        "b=['1d','2']\n",
        "c=['1']\n",
        "len(b)"
      ],
      "execution_count": null,
      "outputs": [
        {
          "output_type": "execute_result",
          "data": {
            "text/plain": [
              "2"
            ]
          },
          "metadata": {},
          "execution_count": 30
        }
      ]
    },
    {
      "cell_type": "code",
      "metadata": {
        "colab": {
          "base_uri": "https://localhost:8080/"
        },
        "id": "MJpzeIPMJN2S",
        "outputId": "8a1aaf9a-f79c-4409-f9e0-9fcdb720e2d3"
      },
      "source": [
        "pri(b)"
      ],
      "execution_count": null,
      "outputs": [
        {
          "output_type": "stream",
          "name": "stdout",
          "text": [
            "['1d', '2']\n"
          ]
        }
      ]
    },
    {
      "cell_type": "code",
      "metadata": {
        "id": "vUEJhkRiJRcF"
      },
      "source": [
        ""
      ],
      "execution_count": null,
      "outputs": []
    }
  ]
}