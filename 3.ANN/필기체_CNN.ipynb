{
  "nbformat": 4,
  "nbformat_minor": 0,
  "metadata": {
    "colab": {
      "name": "20_모델학습.ipynb",
      "provenance": [],
      "collapsed_sections": []
    },
    "kernelspec": {
      "name": "python3",
      "display_name": "Python 3"
    },
    "language_info": {
      "name": "python"
    },
    "accelerator": "GPU"
  },
  "cells": [
    {
      "cell_type": "code",
      "metadata": {
        "id": "VnGUahkGyrP6",
        "colab": {
          "base_uri": "https://localhost:8080/"
        },
        "outputId": "2d9e81f4-6610-4ae0-e594-5d2e0a5a3919"
      },
      "source": [
        "from keras.datasets import mnist\n",
        "\n",
        "(train_x, train_y), (test_a, test_b) = mnist.load_data()\n",
        "\n",
        "print(train_x.shape, train_y.shape)\n",
        "print(test_a.shape, test_b.shape)"
      ],
      "execution_count": 1,
      "outputs": [
        {
          "output_type": "stream",
          "name": "stdout",
          "text": [
            "Downloading data from https://storage.googleapis.com/tensorflow/tf-keras-datasets/mnist.npz\n",
            "11493376/11490434 [==============================] - 0s 0us/step\n",
            "11501568/11490434 [==============================] - 0s 0us/step\n",
            "(60000, 28, 28) (60000,)\n",
            "(10000, 28, 28) (10000,)\n"
          ]
        }
      ]
    },
    {
      "cell_type": "code",
      "metadata": {
        "id": "ZK7cHtiq8b8g",
        "colab": {
          "base_uri": "https://localhost:8080/"
        },
        "outputId": "d879743e-f83a-44f5-ddae-fb3c40bd9878"
      },
      "source": [
        "from tensorflow.keras.utils import to_categorical\n",
        "\n",
        "num_classes = 10\n",
        "\n",
        "train_x0 = train_x.reshape(train_x.shape[0], 28, 28, 1)\n",
        "train_y0 = train_y\n",
        "\n",
        "train_x = train_x0[:40000]\n",
        "valid_x = train_x0[40000:50000]\n",
        "test_x = train_x0[50000:]\n",
        "\n",
        "train_y = train_y0[:40000]\n",
        "valid_y = train_y0[40000:50000]\n",
        "test_y = train_y0[50000:]\n",
        "\n",
        "input_shape = (28, 28, 1)\n",
        "\n",
        "train_x = train_x.astype('float32') / 255\n",
        "valid_x = valid_x.astype('float32') / 255\n",
        "test_x = test_x.astype('float32') / 255\n",
        "\n",
        "train_y = to_categorical(train_y, num_classes)\n",
        "valid_y = to_categorical(valid_y, num_classes)\n",
        "test_y = to_categorical(test_y, num_classes)\n",
        "\n",
        "print('train_x shape:', train_x.shape)\n",
        "print(train_x.shape[0], 'train samples')\n",
        "print(valid_x.shape[0], 'valid samples')\n",
        "print(test_x.shape[0], 'test samples')"
      ],
      "execution_count": 2,
      "outputs": [
        {
          "output_type": "stream",
          "name": "stdout",
          "text": [
            "train_x shape: (40000, 28, 28, 1)\n",
            "40000 train samples\n",
            "10000 valid samples\n",
            "10000 test samples\n"
          ]
        }
      ]
    },
    {
      "cell_type": "code",
      "metadata": {
        "id": "rIOoa3dx9xrG"
      },
      "source": [
        "from tensorflow.keras.models import Sequential\n",
        "from tensorflow.keras.layers import Conv2D, MaxPooling2D\n",
        "from tensorflow.keras.layers import Dropout, Flatten, Dense\n",
        "from tensorflow.keras.losses import categorical_crossentropy\n",
        "from tensorflow.keras.optimizers import RMSprop\n",
        "\n",
        "batch_size = 128\n",
        "epochs = 20\n",
        "\n",
        "model = Sequential()\n",
        "model.add(Conv2D(32, kernel_size=(3, 3), activation='relu', input_shape=input_shape))\n",
        "model.add(Conv2D(64, (3, 3), activation='relu'))\n",
        "model.add(MaxPooling2D(pool_size=(2, 2)))\n",
        "model.add(Dropout(0.25))\n",
        "model.add(Flatten())\n",
        "model.add(Dense(256, activation='relu'))\n",
        "model.add(Dropout(0.5))\n",
        "model.add(Dense(num_classes, activation='softmax'))\n",
        "model.compile(loss=categorical_crossentropy, optimizer=RMSprop(), metrics=['accuracy'])"
      ],
      "execution_count": 3,
      "outputs": []
    },
    {
      "cell_type": "code",
      "metadata": {
        "colab": {
          "base_uri": "https://localhost:8080/"
        },
        "id": "1CuEJwaymUIk",
        "outputId": "446e3e16-e598-4bc7-dd9e-7a5acaf9d254"
      },
      "source": [
        "hist = model.fit(train_x, train_y, batch_size=batch_size, epochs=epochs, verbose=1, validation_data=(valid_x, valid_y))\n",
        "print(\"The model has successfully trained\")\n",
        "model.save('mnist.h5')\n",
        "print(\"Saving the model as mnist.h5\")"
      ],
      "execution_count": 4,
      "outputs": [
        {
          "output_type": "stream",
          "name": "stdout",
          "text": [
            "Epoch 1/20\n",
            "313/313 [==============================] - 36s 19ms/step - loss: 0.2217 - accuracy: 0.9316 - val_loss: 0.0708 - val_accuracy: 0.9773\n",
            "Epoch 2/20\n",
            "313/313 [==============================] - 5s 18ms/step - loss: 0.0740 - accuracy: 0.9780 - val_loss: 0.0766 - val_accuracy: 0.9763\n",
            "Epoch 3/20\n",
            "313/313 [==============================] - 6s 18ms/step - loss: 0.0532 - accuracy: 0.9837 - val_loss: 0.0524 - val_accuracy: 0.9835\n",
            "Epoch 4/20\n",
            "313/313 [==============================] - 5s 18ms/step - loss: 0.0447 - accuracy: 0.9869 - val_loss: 0.0483 - val_accuracy: 0.9848\n",
            "Epoch 5/20\n",
            "313/313 [==============================] - 5s 17ms/step - loss: 0.0364 - accuracy: 0.9890 - val_loss: 0.0482 - val_accuracy: 0.9859\n",
            "Epoch 6/20\n",
            "313/313 [==============================] - 5s 18ms/step - loss: 0.0320 - accuracy: 0.9898 - val_loss: 0.0532 - val_accuracy: 0.9841\n",
            "Epoch 7/20\n",
            "313/313 [==============================] - 5s 18ms/step - loss: 0.0284 - accuracy: 0.9920 - val_loss: 0.0440 - val_accuracy: 0.9884\n",
            "Epoch 8/20\n",
            "313/313 [==============================] - 5s 17ms/step - loss: 0.0262 - accuracy: 0.9918 - val_loss: 0.0448 - val_accuracy: 0.9867\n",
            "Epoch 9/20\n",
            "313/313 [==============================] - 5s 18ms/step - loss: 0.0248 - accuracy: 0.9922 - val_loss: 0.0473 - val_accuracy: 0.9866\n",
            "Epoch 10/20\n",
            "313/313 [==============================] - 5s 17ms/step - loss: 0.0232 - accuracy: 0.9928 - val_loss: 0.0495 - val_accuracy: 0.9874\n",
            "Epoch 11/20\n",
            "313/313 [==============================] - 5s 17ms/step - loss: 0.0235 - accuracy: 0.9929 - val_loss: 0.0519 - val_accuracy: 0.9855\n",
            "Epoch 12/20\n",
            "313/313 [==============================] - 6s 18ms/step - loss: 0.0227 - accuracy: 0.9930 - val_loss: 0.0412 - val_accuracy: 0.9888\n",
            "Epoch 13/20\n",
            "313/313 [==============================] - 5s 17ms/step - loss: 0.0229 - accuracy: 0.9933 - val_loss: 0.0565 - val_accuracy: 0.9856\n",
            "Epoch 14/20\n",
            "313/313 [==============================] - 6s 18ms/step - loss: 0.0241 - accuracy: 0.9931 - val_loss: 0.0491 - val_accuracy: 0.9884\n",
            "Epoch 15/20\n",
            "313/313 [==============================] - 5s 17ms/step - loss: 0.0248 - accuracy: 0.9925 - val_loss: 0.0485 - val_accuracy: 0.9879\n",
            "Epoch 16/20\n",
            "313/313 [==============================] - 6s 18ms/step - loss: 0.0265 - accuracy: 0.9927 - val_loss: 0.0884 - val_accuracy: 0.9840\n",
            "Epoch 17/20\n",
            "313/313 [==============================] - 6s 18ms/step - loss: 0.0238 - accuracy: 0.9929 - val_loss: 0.0465 - val_accuracy: 0.9885\n",
            "Epoch 18/20\n",
            "313/313 [==============================] - 5s 17ms/step - loss: 0.0266 - accuracy: 0.9923 - val_loss: 0.0556 - val_accuracy: 0.9884\n",
            "Epoch 19/20\n",
            "313/313 [==============================] - 5s 17ms/step - loss: 0.0280 - accuracy: 0.9922 - val_loss: 0.0480 - val_accuracy: 0.9865\n",
            "Epoch 20/20\n",
            "313/313 [==============================] - 5s 18ms/step - loss: 0.0257 - accuracy: 0.9926 - val_loss: 0.0390 - val_accuracy: 0.9891\n",
            "The model has successfully trained\n",
            "Saving the model as mnist.h5\n"
          ]
        }
      ]
    },
    {
      "cell_type": "code",
      "metadata": {
        "colab": {
          "base_uri": "https://localhost:8080/",
          "height": 302
        },
        "id": "ELxoAlqdn8U3",
        "outputId": "3a2f9baa-f3bc-4efb-be08-c73298a4c91e"
      },
      "source": [
        "import matplotlib.pyplot as plt\n",
        "\n",
        "plt.plot(hist.history['accuracy'], label='accuracy')\n",
        "plt.plot(hist.history['val_accuracy'], label = 'val_accuracy')\n",
        "plt.xlabel('Epoch')\n",
        "plt.ylabel('Accuracy')\n",
        "plt.ylim([0.97, 1])\n",
        "plt.legend(loc='lower right')"
      ],
      "execution_count": 5,
      "outputs": [
        {
          "output_type": "execute_result",
          "data": {
            "text/plain": [
              "<matplotlib.legend.Legend at 0x7f9a5227a8d0>"
            ]
          },
          "metadata": {},
          "execution_count": 5
        },
        {
          "output_type": "display_data",
          "data": {
            "image/png": "[encoded data removed]",
            "text/plain": [
              "<Figure size 432x288 with 1 Axes>"
            ]
          },
          "metadata": {
            "needs_background": "light"
          }
        }
      ]
    },
    {
      "cell_type": "code",
      "metadata": {
        "id": "wHhg9nSoqRwN"
      },
      "source": [
        "batch_size = 128\n",
        "epochs = 7\n",
        "\n",
        "model = Sequential()\n",
        "model.add(Conv2D(32, kernel_size=(3, 3),activation='relu',input_shape=input_shape))\n",
        "model.add(Conv2D(64, (3, 3), activation='relu'))\n",
        "model.add(MaxPooling2D(pool_size=(2, 2)))\n",
        "model.add(Dropout(0.25))\n",
        "model.add(Flatten())\n",
        "model.add(Dense(256, activation='relu'))\n",
        "model.add(Dropout(0.5))\n",
        "model.add(Dense(num_classes, activation='softmax'))\n",
        "model.compile(loss=categorical_crossentropy,optimizer=RMSprop(),metrics=['accuracy'])"
      ],
      "execution_count": 6,
      "outputs": []
    },
    {
      "cell_type": "code",
      "metadata": {
        "colab": {
          "base_uri": "https://localhost:8080/"
        },
        "id": "SrhJPrJ_sz8c",
        "outputId": "393e8d47-8b8f-40fe-98f8-9edbfbfc78ff"
      },
      "source": [
        "hist = model.fit(train_x, train_y, batch_size=batch_size, epochs=epochs, verbose=1, validation_data=(valid_x, valid_y))\n",
        "print(\"The model has successfully trained\")\n",
        "model.save('mnist.h5')\n",
        "print(\"Saving the model as mnist.h5\")"
      ],
      "execution_count": 7,
      "outputs": [
        {
          "output_type": "stream",
          "name": "stdout",
          "text": [
            "Epoch 1/7\n",
            "313/313 [==============================] - 7s 19ms/step - loss: 0.2298 - accuracy: 0.9286 - val_loss: 0.0802 - val_accuracy: 0.9739\n",
            "Epoch 2/7\n",
            "313/313 [==============================] - 6s 18ms/step - loss: 0.0756 - accuracy: 0.9776 - val_loss: 0.0831 - val_accuracy: 0.9739\n",
            "Epoch 3/7\n",
            "313/313 [==============================] - 5s 18ms/step - loss: 0.0571 - accuracy: 0.9828 - val_loss: 0.0502 - val_accuracy: 0.9849\n",
            "Epoch 4/7\n",
            "313/313 [==============================] - 6s 18ms/step - loss: 0.0440 - accuracy: 0.9866 - val_loss: 0.0496 - val_accuracy: 0.9855\n",
            "Epoch 5/7\n",
            "313/313 [==============================] - 5s 17ms/step - loss: 0.0374 - accuracy: 0.9886 - val_loss: 0.0430 - val_accuracy: 0.9864\n",
            "Epoch 6/7\n",
            "313/313 [==============================] - 5s 18ms/step - loss: 0.0328 - accuracy: 0.9899 - val_loss: 0.0422 - val_accuracy: 0.9870\n",
            "Epoch 7/7\n",
            "313/313 [==============================] - 5s 17ms/step - loss: 0.0302 - accuracy: 0.9910 - val_loss: 0.0430 - val_accuracy: 0.9860\n",
            "The model has successfully trained\n",
            "Saving the model as mnist.h5\n"
          ]
        }
      ]
    },
    {
      "cell_type": "code",
      "metadata": {
        "colab": {
          "base_uri": "https://localhost:8080/"
        },
        "id": "03tMEVKpBhrs",
        "outputId": "5a638236-f806-4d84-a271-a4642bcc3fe0"
      },
      "source": [
        "score = model.evaluate(test_x, test_y, verbose=0)\n",
        "\n",
        "print('Test loss:', score[0])\n",
        "print('Test accuracy:', score[1])"
      ],
      "execution_count": 8,
      "outputs": [
        {
          "output_type": "stream",
          "name": "stdout",
          "text": [
            "Test loss: 0.03695744276046753\n",
            "Test accuracy: 0.9890999794006348\n"
          ]
        }
      ]
    },
    {
      "cell_type": "code",
      "metadata": {
        "id": "y8bQ7c5uDEmu"
      },
      "source": [
        "test_a = test_a.reshape(test_a.shape[0], 28, 28, 1)\n",
        "\n",
        "test_a = test_a.astype('float32') / 28\n",
        "\n",
        "test_b = to_categorical(test_b, num_classes)"
      ],
      "execution_count": 9,
      "outputs": []
    },
    {
      "cell_type": "code",
      "metadata": {
        "colab": {
          "base_uri": "https://localhost:8080/"
        },
        "id": "M7RFNF1QqVqh",
        "outputId": "787e7eec-0fb2-43de-a72a-75be07c96b31"
      },
      "source": [
        "score = model.evaluate(test_a, test_b, verbose=0)\n",
        "\n",
        "print('Test loss:', score[0])\n",
        "print('Test accuracy:', score[1])"
      ],
      "execution_count": 10,
      "outputs": [
        {
          "output_type": "stream",
          "name": "stdout",
          "text": [
            "Test loss: 0.33705398440361023\n",
            "Test accuracy: 0.9879999756813049\n"
          ]
        }
      ]
    }
  ]
}